{
 "cells": [
  {
   "cell_type": "markdown",
   "metadata": {},
   "source": [
    "### One Hot Encoder"
   ]
  },
  {
   "cell_type": "code",
   "execution_count": 13,
   "metadata": {},
   "outputs": [
    {
     "name": "stdout",
     "output_type": "stream",
     "text": [
      "[[1. 0. 0. 0.]\n",
      " [0. 1. 0. 0.]\n",
      " [0. 0. 1. 0.]\n",
      " [0. 0. 0. 1.]]\n"
     ]
    }
   ],
   "source": [
    "from sklearn.preprocessing import OneHotEncoder \n",
    "import numpy as np\n",
    "\n",
    "#sample data \n",
    "data= np.array([\"cat\", \"dog\", \"man\", \"woman\"]) \n",
    "data= data.reshape(-1,1)    # resize into column vector \n",
    "# one hot encode \n",
    "encoder= OneHotEncoder(sparse_output=False)\n",
    "onthot_encode= encoder.fit_transform(data)\n",
    "print(onthot_encode)\n",
    "\n",
    "''' \n",
    "output: \n",
    "[[1. 0. 0. 0.]\n",
    " [0. 1. 0. 0.]\n",
    " [0. 0. 1. 0.]\n",
    " [0. 0. 0. 1.]]\n",
    "'''"
   ]
  },
  {
   "cell_type": "markdown",
   "metadata": {},
   "source": [
    "### Bag of Words"
   ]
  },
  {
   "cell_type": "code",
   "execution_count": 6,
   "metadata": {},
   "outputs": [
    {
     "name": "stdout",
     "output_type": "stream",
     "text": [
      "[[0 1 1 1 0 0 1 0 1]\n",
      " [0 2 0 1 0 1 1 0 1]\n",
      " [1 0 0 1 1 0 1 1 1]\n",
      " [0 1 1 1 0 0 1 0 1]]\n",
      "['and' 'document' 'first' 'is' 'one' 'second' 'the' 'third' 'this']\n"
     ]
    }
   ],
   "source": [
    "from sklearn.feature_extraction.text import CountVectorizer\n",
    "\n",
    "# data \n",
    "data= [\n",
    "    'This is the first document.',\n",
    "    'This document is the second document.',\n",
    "    'And this is the third one.',\n",
    "    'Is this the first document?',\n",
    "]\n",
    "# transform data into a table where row is the dictionary \n",
    "#                                   column is the rearranged input sentence \n",
    "vectorizer= CountVectorizer()\n",
    "data= vectorizer.fit_transform(data)\n",
    "print(data.toarray())\n",
    "print(vectorizer.get_feature_names_out())\n",
    "''' \n",
    "[[0 1 1 1 0 0 1 0 1]\n",
    " [0 2 0 1 0 1 1 0 1]\n",
    " [1 0 0 1 1 0 1 1 1]\n",
    " [0 1 1 1 0 0 1 0 1]]\n",
    "['and' 'document' 'first' 'is' 'one' 'second' 'the' 'third' 'this']\n",
    "'''"
   ]
  },
  {
   "cell_type": "markdown",
   "metadata": {},
   "source": [
    "### TF-IDF Method "
   ]
  },
  {
   "cell_type": "code",
   "execution_count": 10,
   "metadata": {},
   "outputs": [
    {
     "name": "stdout",
     "output_type": "stream",
     "text": [
      "is :  1.0\n",
      "john :  1.0\n",
      "not :  1.4054651081081644\n",
      "this :  1.0\n"
     ]
    },
    {
     "data": {
      "text/plain": [
       "' output \\nis :  1.0\\njohn :  1.0\\nnot :  1.4054651081081644\\nthis :  1.0\\n'"
      ]
     },
     "execution_count": 10,
     "metadata": {},
     "output_type": "execute_result"
    }
   ],
   "source": [
    "from sklearn.feature_extraction.text import TfidfVectorizer\n",
    "data= [\n",
    "    'This is John',\n",
    "    'This is not John'\n",
    "]\n",
    "tfidf= TfidfVectorizer() \n",
    "# convert to tfidf values \n",
    "val= tfidf.fit_transform(data)\n",
    "for word, value in zip(tfidf.get_feature_names_out(), tfidf.idf_):\n",
    "    print(word, \": \", value)\n",
    "\n",
    "''' output \n",
    "is :  1.0\n",
    "john :  1.0\n",
    "not :  1.4054651081081644\n",
    "this :  1.0\n",
    "'''"
   ]
  }
 ],
 "metadata": {
  "kernelspec": {
   "display_name": "Python 3",
   "language": "python",
   "name": "python3"
  },
  "language_info": {
   "codemirror_mode": {
    "name": "ipython",
    "version": 3
   },
   "file_extension": ".py",
   "mimetype": "text/x-python",
   "name": "python",
   "nbconvert_exporter": "python",
   "pygments_lexer": "ipython3",
   "version": "3.12.0"
  }
 },
 "nbformat": 4,
 "nbformat_minor": 2
}
