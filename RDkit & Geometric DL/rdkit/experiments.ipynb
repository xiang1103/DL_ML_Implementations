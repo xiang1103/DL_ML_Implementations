{
 "cells": [
  {
   "cell_type": "markdown",
   "metadata": {},
   "source": [
    "## Predicting Log P value given SMILES using RDKit at Zinc Dataset \n",
    "Given the Zinc Dataset, we'll take the SMILES strings and predict the Log P values using RDKit and see the performance "
   ]
  },
  {
   "cell_type": "code",
   "execution_count": 1,
   "metadata": {},
   "outputs": [],
   "source": [
    "from rdkit import Chem \n",
    "from rdkit.Chem import Draw\n",
    "from rdkit.Chem.Draw import IPythonConsole \n",
    "from rdkit.Chem import Descriptors \n",
    "from rdkit.Chem import AllChem \n",
    "from rdkit import DataStructs\n",
    "import numpy as np \n",
    "from rdkit.Chem import MolFromInchi\n",
    "from rdkit.Chem import rdMolDescriptors\n",
    "import pandas as pd \n"
   ]
  },
  {
   "cell_type": "markdown",
   "metadata": {},
   "source": [
    "### Experiment 1: \n",
    "- Take the first 100 original SMILES and predict their log P value "
   ]
  },
  {
   "cell_type": "code",
   "execution_count": null,
   "metadata": {},
   "outputs": [
    {
     "data": {
      "text/html": [
       "<div>\n",
       "<style scoped>\n",
       "    .dataframe tbody tr th:only-of-type {\n",
       "        vertical-align: middle;\n",
       "    }\n",
       "\n",
       "    .dataframe tbody tr th {\n",
       "        vertical-align: top;\n",
       "    }\n",
       "\n",
       "    .dataframe thead th {\n",
       "        text-align: right;\n",
       "    }\n",
       "</style>\n",
       "<table border=\"1\" class=\"dataframe\">\n",
       "  <thead>\n",
       "    <tr style=\"text-align: right;\">\n",
       "      <th></th>\n",
       "      <th>smiles</th>\n",
       "      <th>logP</th>\n",
       "    </tr>\n",
       "  </thead>\n",
       "  <tbody>\n",
       "    <tr>\n",
       "      <th>0</th>\n",
       "      <td>CC(C)(C)c1ccc2occ(CC(=O)Nc3ccccc3F)c2c1\\n</td>\n",
       "      <td>5.05060</td>\n",
       "    </tr>\n",
       "    <tr>\n",
       "      <th>1</th>\n",
       "      <td>C[C@@H]1CC(Nc2cncc(-c3nncn3C)c2)C[C@@H](C)C1\\n</td>\n",
       "      <td>3.11370</td>\n",
       "    </tr>\n",
       "    <tr>\n",
       "      <th>2</th>\n",
       "      <td>N#Cc1ccc(-c2ccc(O[C@@H](C(=O)N3CCCC3)c3ccccc3)...</td>\n",
       "      <td>4.96778</td>\n",
       "    </tr>\n",
       "    <tr>\n",
       "      <th>3</th>\n",
       "      <td>CCOC(=O)[C@@H]1CCCN(C(=O)c2nc(-c3ccc(C)cc3)n3c...</td>\n",
       "      <td>4.00022</td>\n",
       "    </tr>\n",
       "    <tr>\n",
       "      <th>4</th>\n",
       "      <td>N#CC1=C(SCC(=O)Nc2cccc(Cl)c2)N=C([O-])[C@H](C#...</td>\n",
       "      <td>3.60956</td>\n",
       "    </tr>\n",
       "  </tbody>\n",
       "</table>\n",
       "</div>"
      ],
      "text/plain": [
       "                                              smiles     logP\n",
       "0          CC(C)(C)c1ccc2occ(CC(=O)Nc3ccccc3F)c2c1\\n  5.05060\n",
       "1     C[C@@H]1CC(Nc2cncc(-c3nncn3C)c2)C[C@@H](C)C1\\n  3.11370\n",
       "2  N#Cc1ccc(-c2ccc(O[C@@H](C(=O)N3CCCC3)c3ccccc3)...  4.96778\n",
       "3  CCOC(=O)[C@@H]1CCCN(C(=O)c2nc(-c3ccc(C)cc3)n3c...  4.00022\n",
       "4  N#CC1=C(SCC(=O)Nc2cccc(Cl)c2)N=C([O-])[C@H](C#...  3.60956"
      ]
     },
     "execution_count": 21,
     "metadata": {},
     "output_type": "execute_result"
    }
   ],
   "source": [
    "data= pd.read_csv(\"enhanced_molecules_top1000 (2).csv\", usecols=[0,1],nrows=100) # take in the first col and first 100 smiles \n",
    "data.head() "
   ]
  },
  {
   "cell_type": "code",
   "execution_count": 25,
   "metadata": {},
   "outputs": [
    {
     "name": "stdout",
     "output_type": "stream",
     "text": [
      "CC(C)(C)c1ccc2occ(CC(=O)Nc3ccccc3F)c2c1\n",
      "\n",
      "5.0506\n"
     ]
    }
   ],
   "source": [
    "smiles= np.array(data[\"smiles\"])    # (100,)\n",
    "logP_gt= np.array(data[\"logP\"])     # (100,)\n",
    "print(smiles[0])\n",
    "print(logP_gt[0])"
   ]
  },
  {
   "cell_type": "code",
   "execution_count": null,
   "metadata": {},
   "outputs": [
    {
     "name": "stdout",
     "output_type": "stream",
     "text": [
      "[5.0506  3.1137  4.96778 4.00022 3.60956]\n"
     ]
    }
   ],
   "source": [
    "# iterate through the entire smiles array to feed into RDKit \n",
    "# combine RDKit results into one array and calculate the RMSE with ground_truth\n",
    "pred_logP= [] # (100,)\n",
    "for i in range(0,len(smiles)):\n",
    "    mol =  Chem.MolFromSmiles(smiles[i])    # generate molecule in RDKit \n",
    "    value= Descriptors.MolLogP(mol)     # predict log P value \n",
    "    pred_logP.append(value)     # append to the list \n",
    "\n",
    "pred_logP= np.array(pred_logP)  # convert to np array \n",
    "print(pred_logP[:5])    # print out predictions "
   ]
  },
  {
   "cell_type": "code",
   "execution_count": 34,
   "metadata": {},
   "outputs": [
    {
     "name": "stdout",
     "output_type": "stream",
     "text": [
      "Mean Squared Error: 4.782392200704608e-30\n",
      "Root Mean Squared Error: 2.1868681260434085e-15\n"
     ]
    }
   ],
   "source": [
    "# calculate error metrics \n",
    "mse= np.mean( (pred_logP-logP_gt)**2 ,axis=0)\n",
    "print(\"Mean Squared Error:\",mse)\n",
    "\n",
    "rmse= np.sqrt (mse)\n",
    "print(\"Root Mean Squared Error:\",rmse)"
   ]
  },
  {
   "cell_type": "markdown",
   "metadata": {},
   "source": [
    "#### Experiment 2: \n",
    "Same set up as experiment 1, given original canonical and isomeric SMILES, predict log P values, but we use the entire data set "
   ]
  },
  {
   "cell_type": "code",
   "execution_count": 36,
   "metadata": {},
   "outputs": [
    {
     "name": "stdout",
     "output_type": "stream",
     "text": [
      "[5.0506  3.1137  4.96778 4.00022 3.60956]\n"
     ]
    }
   ],
   "source": [
    "data= pd.read_csv(\"enhanced_molecules_top1000 (2).csv\", usecols=[0,1]) # take in the first col and first 100 smiles \n",
    "logP_gt= np.array(data[\"logP\"])     \n",
    "smiles= np.array(data[\"smiles\"]) \n",
    "pred_logP= [] \n",
    "for i in range(0,len(smiles)):\n",
    "    mol =  Chem.MolFromSmiles(smiles[i])   \n",
    "    value= Descriptors.MolLogP(mol)     \n",
    "    pred_logP.append(value)     \n",
    "\n",
    "pred_logP= np.array(pred_logP)   # (1000, )\n",
    "print(pred_logP[:5])"
   ]
  },
  {
   "cell_type": "code",
   "execution_count": 37,
   "metadata": {},
   "outputs": [
    {
     "name": "stdout",
     "output_type": "stream",
     "text": [
      "1000 Smiles Mean Squared Error: 3.44390984429787e-30\n",
      "1000 Smiles Root Mean Squared Error: 1.8557774231566325e-15\n"
     ]
    }
   ],
   "source": [
    "mse= np.mean( (pred_logP-logP_gt)**2 ,axis=0)\n",
    "print(\"1000 Smiles Mean Squared Error:\",mse)\n",
    "\n",
    "rmse= np.sqrt (mse)\n",
    "print(\"1000 Smiles Root Mean Squared Error:\",rmse)"
   ]
  },
  {
   "cell_type": "code",
   "execution_count": 38,
   "metadata": {},
   "outputs": [],
   "source": [
    "# convert into one data file \n",
    "data = pd.DataFrame(\n",
    "    {\n",
    "        \"smiles\":smiles, \n",
    "        \"logP\": logP_gt,\n",
    "        \"RDKit logP\": pred_logP \n",
    "    }\n",
    ")\n",
    "data.to_csv(\"logP_RDKit_predicted.csv\", index=False)\n"
   ]
  },
  {
   "cell_type": "markdown",
   "metadata": {},
   "source": [
    "## Experiment Helper Methods "
   ]
  },
  {
   "cell_type": "code",
   "execution_count": 2,
   "metadata": {},
   "outputs": [],
   "source": [
    "def pred_logP (smiles_lst): \n",
    "    '''  \n",
    "    Arguments smiles_lst: input list of SMILES strings to read. \n",
    "    Return: list of predicted log P value corresponding to each SMILES \n",
    "    '''\n",
    "    pred = [] \n",
    "    for i in range(0, len(smiles_lst)): \n",
    "        mol= Chem.MolFromSmiles(smiles_lst[i])\n",
    "        value = Descriptors.MolLogP(mol) \n",
    "        pred.append(value)\n",
    "    return pred\n",
    "\n",
    "def pred_QED (smiles_lst): \n",
    "    '''  \n",
    "    Arguments smiles_lst: input list of SMILES strings to read. \n",
    "    Return: list of predicted QED value corresponding to each SMILES \n",
    "    '''\n",
    "    pred = [] \n",
    "    for i in range(0, len(smiles_lst)): \n",
    "        mol= Chem.MolFromSmiles(smiles_lst[i])\n",
    "        value = Descriptors.qed(mol) \n",
    "        pred.append(value)\n",
    "    return pred\n",
    "\n",
    "def pred_SAS (smiles_lst): \n",
    "    '''  \n",
    "    Arguments smiles_lst: input list of SMILES strings to read. \n",
    "    Return: list of predicted SAS value corresponding to each SMILES \n",
    "    '''\n",
    "    from rdkit.Chem import RDConfig\n",
    "    import os\n",
    "    import sys\n",
    "    sys.path.append(os.path.join(RDConfig.RDContribDir, 'SA_Score'))\n",
    "    import sascorer\n",
    "    \n",
    "    pred = [] \n",
    "    for i in range(0, len(smiles_lst)): \n",
    "        mol= Chem.MolFromSmiles(smiles_lst[i])\n",
    "        value = sascorer.calculateScore(mol) \n",
    "        pred.append(value)\n",
    "    return pred\n"
   ]
  },
  {
   "cell_type": "code",
   "execution_count": 3,
   "metadata": {},
   "outputs": [],
   "source": [
    "# error calculation metrics \n",
    "\n",
    "# root mean squared error \n",
    "def RMSE(gt,pred): \n",
    "    ''' \n",
    "    Arguments: \n",
    "        gt: ground truth  (n_row, )\n",
    "        pred: predicted array   (n_row, )\n",
    "    Return: total RMSE error \n",
    "    ''' \n",
    "    gt= np.array(gt)\n",
    "    pred = np.array(pred)\n",
    "    mse = np.mean( (gt-pred)**2, axis=0)\n",
    "    return np.sqrt(mse)\n",
    "    \n",
    "# mean absolute error \n",
    "def MAE(gt, pred): \n",
    "    ''' \n",
    "    Arguments: \n",
    "        gt: ground truth  (n_row, )\n",
    "        pred: predicted array   (n_row, )\n",
    "    Return: total RMSE error \n",
    "    ''' \n",
    "    gt= np.array(gt)\n",
    "    pred = np.array(pred)\n",
    "    return np.mean(np.abs(gt-pred), axis=0) \n",
    "\n"
   ]
  },
  {
   "cell_type": "markdown",
   "metadata": {},
   "source": [
    "#### Experiment 3: \n",
    "Log P predictions with random(non-canonical), non-isomeric, kekule SMILES  \n",
    "*Note: ZINC dataset uses canonical and isomeric SMILES* "
   ]
  },
  {
   "cell_type": "code",
   "execution_count": null,
   "metadata": {},
   "outputs": [],
   "source": [
    "data= pd.read_csv(\"enhanced_molecules_top1000 (2).csv\", usecols=[1,5,6,7,8])\n"
   ]
  },
  {
   "cell_type": "code",
   "execution_count": 29,
   "metadata": {},
   "outputs": [
    {
     "name": "stdout",
     "output_type": "stream",
     "text": [
      "ran_1 RMSE Error: 1.8665324996562116e-15\n",
      "ran_1 MAE Error: 1.4125697139766303e-15\n",
      "ran_2 RMSE Error: 1.9039164274386363e-15\n",
      "ran_2 MAE Error: 1.455361872682026e-15\n",
      "non_iso RMSE Error: 1.8557508552294186e-15\n",
      "non_iso MAE Error: 1.4117301078142575e-15\n",
      "kekule RMSE Error: 1.8578410870503903e-15\n",
      "kekule MAE Error: 1.4157824218541393e-15\n"
     ]
    }
   ],
   "source": [
    "logP_gt= data[\"logP\"]\n",
    "# all testing SMILES \n",
    "smiles_dic= {\n",
    "    \"ran_1\": data[\"Random_SMILES_1\"], \n",
    "    \"ran_2\" : data[\"Random_SMILES_2\"], \n",
    "    \"non_iso\": data[\"NonIsomeric_SMILES\"], \n",
    "    \"kekule\" : data[\"Kekule_SMILES\"]\n",
    "}\n",
    "\n",
    "# running experiment to get prediction output and error \n",
    "all_output = []\n",
    "for smiles in smiles_dic: \n",
    "    out= pred_logP(smiles_dic[smiles])\n",
    "    print(f\"{smiles} RMSE Error: {RMSE(logP_gt, out)}\")\n",
    "    print (f\"{smiles} MAE Error: {MAE(logP_gt, out)}\")\n",
    "    all_output.append(out)\n",
    "\n",
    "# append the existing csv file \n",
    "new_data= pd.DataFrame({\n",
    "    \"Log P\" : logP_gt\n",
    "})\n",
    "key_index = list(smiles_dic.keys())   # convert keys to index for faster append \n",
    "for i in range(0, len(key_index)):\n",
    "    new_data[key_index[i]] = all_output[i]\n",
    "    "
   ]
  },
  {
   "cell_type": "code",
   "execution_count": null,
   "metadata": {},
   "outputs": [],
   "source": [
    "# append to new data \n",
    "new_data.to_csv(\"non_canonical_RDKit_logP.csv\", index=False)"
   ]
  },
  {
   "cell_type": "markdown",
   "metadata": {},
   "source": [
    "#### Experiment 4: Predict QED for Canonincal SMILES \n",
    "- QED Score predictions are not as good as log P, but still very good compared with GPT outputs "
   ]
  },
  {
   "cell_type": "code",
   "execution_count": 6,
   "metadata": {},
   "outputs": [
    {
     "name": "stdout",
     "output_type": "stream",
     "text": [
      "QED Score RMSE: 0.01642800793261555\n",
      "QED Score MAE: 0.013189942379447376\n"
     ]
    }
   ],
   "source": [
    "data= pd.read_csv(\"enhanced_molecules_top1000 (2).csv\", usecols=[0,2])\n",
    "smiles= data[\"smiles\"]\n",
    "qed_gt= data[\"qed\"]\n",
    "pred = pred_QED(smiles)\n",
    "print(\"QED Score RMSE:\", RMSE(qed_gt,pred))\n",
    "print(\"QED Score MAE:\", MAE(qed_gt,pred))"
   ]
  },
  {
   "cell_type": "code",
   "execution_count": 7,
   "metadata": {},
   "outputs": [],
   "source": [
    "new_data= pd.DataFrame({\n",
    "    \"smiles\": smiles,\n",
    "    \"QED\": qed_gt, \n",
    "    \"Predicted QED\": pred\n",
    "})\n",
    "new_data.to_csv(\"QED_RDKit_pred.csv\", index=False )"
   ]
  },
  {
   "cell_type": "markdown",
   "metadata": {},
   "source": [
    "#### Experiment 5: Predict SAS score for Canonical SMILES \n",
    "- Also very high accuracy as log P predictions "
   ]
  },
  {
   "cell_type": "code",
   "execution_count": 17,
   "metadata": {},
   "outputs": [
    {
     "name": "stdout",
     "output_type": "stream",
     "text": [
      "SAS Score RMSE: 8.773993594040031e-16\n",
      "SAS Score MAE: 5.160316618457727e-16\n"
     ]
    }
   ],
   "source": [
    "data= pd.read_csv(\"enhanced_molecules_top1000 (2).csv\", usecols=[0,3])\n",
    "smiles= data[\"smiles\"]\n",
    "sas_gt= data[\"SAS\"]\n",
    "pred = pred_SAS(smiles)\n",
    "print(\"SAS Score RMSE:\", RMSE(sas_gt,pred))\n",
    "print(\"SAS Score MAE:\", MAE(sas_gt,pred))\n",
    "\n",
    "new_data= pd.DataFrame({\n",
    "    \"smiles\": smiles,\n",
    "    \"SAS\": sas_gt, \n",
    "    \"Predicted SAS\": pred\n",
    "})\n",
    "new_data.to_csv(\"SAS_RDKit_pred.csv\", index=False )"
   ]
  },
  {
   "cell_type": "markdown",
   "metadata": {},
   "source": [
    "#### Experiment 6: QED and SAS score prediction with non-canonical SMILES \n",
    "Predict the QED scores and SAS score based on random, kekule, non-isomeric SMILES "
   ]
  },
  {
   "cell_type": "code",
   "execution_count": 4,
   "metadata": {},
   "outputs": [
    {
     "name": "stdout",
     "output_type": "stream",
     "text": [
      "ran_1 QED RMSE Error: 0.016428007932615552\n",
      "ran_1 QED MAE Error: 0.013189942379447374\n",
      "ran_2 QED RMSE Error: 0.01642800793261555\n",
      "ran_2 QED MAE Error: 0.013189942379447374\n",
      "non_iso QED RMSE Error: 0.01642800793261555\n",
      "non_iso QED MAE Error: 0.013189942379447376\n",
      "kekule QED RMSE Error: 0.01642800793261555\n",
      "kekule QED MAE Error: 0.013189942379447378\n"
     ]
    }
   ],
   "source": [
    "# QED Scores \n",
    "data= pd.read_csv(\"enhanced_molecules_top1000 (2).csv\", usecols=[2,5,6,7,8])\n",
    "logP_gt= data[\"qed\"]\n",
    "# all testing SMILES \n",
    "smiles_dic= {\n",
    "    \"ran_1\": data[\"Random_SMILES_1\"], \n",
    "    \"ran_2\" : data[\"Random_SMILES_2\"], \n",
    "    \"non_iso\": data[\"NonIsomeric_SMILES\"], \n",
    "    \"kekule\" : data[\"Kekule_SMILES\"]\n",
    "}\n",
    "\n",
    "# running experiment to get prediction output and error \n",
    "for smiles in smiles_dic: \n",
    "    out= pred_QED(smiles_dic[smiles])\n",
    "    print(f\"{smiles} QED RMSE Error: {RMSE(logP_gt, out)}\")\n",
    "    print (f\"{smiles} QED MAE Error: {MAE(logP_gt, out)}\")"
   ]
  },
  {
   "cell_type": "code",
   "execution_count": 5,
   "metadata": {},
   "outputs": [
    {
     "name": "stdout",
     "output_type": "stream",
     "text": [
      "ran_1 SAS RMSE Error: 8.773993594040031e-16\n",
      "ran_1 SAS MAE Error: 5.160316618457727e-16\n",
      "ran_2 SAS RMSE Error: 8.773993594040031e-16\n",
      "ran_2 SAS MAE Error: 5.160316618457727e-16\n",
      "non_iso SAS RMSE Error: 0.009713732467127397\n",
      "non_iso SAS MAE Error: 0.00030717519177700847\n",
      "kekule SAS RMSE Error: 8.773993594040031e-16\n",
      "kekule SAS MAE Error: 5.160316618457727e-16\n"
     ]
    }
   ],
   "source": [
    "# SAS Scores \n",
    "data= pd.read_csv(\"enhanced_molecules_top1000 (2).csv\", usecols=[3,5,6,7,8])\n",
    "logP_gt= data[\"SAS\"]\n",
    "# all testing SMILES \n",
    "smiles_dic= {\n",
    "    \"ran_1\": data[\"Random_SMILES_1\"], \n",
    "    \"ran_2\" : data[\"Random_SMILES_2\"], \n",
    "    \"non_iso\": data[\"NonIsomeric_SMILES\"], \n",
    "    \"kekule\" : data[\"Kekule_SMILES\"]\n",
    "}\n",
    "\n",
    "# running experiment to get prediction output and error \n",
    "for smiles in smiles_dic: \n",
    "    out= pred_SAS(smiles_dic[smiles])\n",
    "    print(f\"{smiles} SAS RMSE Error: {RMSE(logP_gt, out)}\")\n",
    "    print (f\"{smiles} SAS MAE Error: {MAE(logP_gt, out)}\")"
   ]
  },
  {
   "cell_type": "markdown",
   "metadata": {},
   "source": [
    "### Conclusion: \n",
    "- The error terms are repeating for corresponding experiments, this is because RDKit can parse the different SMILES into the same molecule. And the same molecule has the same error from RDKit's Descriptor Functions "
   ]
  }
 ],
 "metadata": {
  "kernelspec": {
   "display_name": "newEnv",
   "language": "python",
   "name": "python3"
  },
  "language_info": {
   "codemirror_mode": {
    "name": "ipython",
    "version": 3
   },
   "file_extension": ".py",
   "mimetype": "text/x-python",
   "name": "python",
   "nbconvert_exporter": "python",
   "pygments_lexer": "ipython3",
   "version": "3.12.2"
  }
 },
 "nbformat": 4,
 "nbformat_minor": 2
}
