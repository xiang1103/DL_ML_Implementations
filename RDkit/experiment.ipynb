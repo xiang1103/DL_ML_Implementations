{
 "cells": [
  {
   "cell_type": "markdown",
   "metadata": {},
   "source": [
    "### Experimenting with RDkit "
   ]
  },
  {
   "cell_type": "code",
   "execution_count": 2,
   "metadata": {},
   "outputs": [],
   "source": [
    "from rdkit import Chem \n",
    "from rdkit.Chem import Draw\n",
    "from rdkit.Chem.Draw import IPythonConsole \n",
    "from rdkit.Chem import Descriptors \n",
    "from rdkit.Chem import AllChem \n",
    "from rdkit import DataStructs\n",
    "import numpy as np \n",
    "from rdkit.Chem import MolFromInchi\n",
    "from rdkit.Chem import rdMolDescriptors\n",
    "import pubchempy\n"
   ]
  },
  {
   "cell_type": "markdown",
   "metadata": {},
   "source": [
    "## Convering SMILES to molecules \n",
    "This process is done computationally where RDKit follows a certain rule to generate molecule (names, and etc. )\n",
    "-  RDKit supports plotting of the chemical formula, but this sometimes is not correct \n",
    "-  RDKit generates moleculuar formula along from SMILES strings"
   ]
  },
  {
   "cell_type": "markdown",
   "metadata": {},
   "source": [
    "**Reading molecules from SMILES strings** and examples with omitted Hydrogen bonds "
   ]
  },
  {
   "cell_type": "code",
   "execution_count": 10,
   "metadata": {},
   "outputs": [
    {
     "data": {
      "image/png": "[encoded data removed]",
      "text/plain": [
       "<rdkit.Chem.rdchem.Mol at 0x10f487290>"
      ]
     },
     "execution_count": 10,
     "metadata": {},
     "output_type": "execute_result"
    }
   ],
   "source": [
    "methane= Chem.MolFromSmiles(\"C\")\n",
    "methane "
   ]
  },
  {
   "cell_type": "code",
   "execution_count": 11,
   "metadata": {},
   "outputs": [
    {
     "data": {
      "image/png": "[encoded data removed]",
      "text/plain": [
       "<rdkit.Chem.rdchem.Mol at 0x10f51cb30>"
      ]
     },
     "execution_count": 11,
     "metadata": {},
     "output_type": "execute_result"
    }
   ],
   "source": [
    "water= Chem.MolFromSmiles(\"O\")\n",
    "water "
   ]
  },
  {
   "cell_type": "markdown",
   "metadata": {},
   "source": [
    "Failed Plotting of RDKit, but it can still get the chemical formula correct "
   ]
  },
  {
   "cell_type": "code",
   "execution_count": 21,
   "metadata": {},
   "outputs": [
    {
     "data": {
      "image/png": "[encoded data removed]",
      "text/plain": [
       "<rdkit.Chem.rdchem.Mol at 0x10fb634c0>"
      ]
     },
     "execution_count": 21,
     "metadata": {},
     "output_type": "execute_result"
    }
   ],
   "source": [
    "bromemethane= Chem.MolFromSmiles(\"CBr\")\n",
    "bromemethane"
   ]
  },
  {
   "cell_type": "code",
   "execution_count": null,
   "metadata": {},
   "outputs": [
    {
     "data": {
      "image/png": "[encoded data removed]",
      "text/plain": [
       "<rdkit.Chem.rdchem.Mol at 0x10fb62d50>"
      ]
     },
     "execution_count": 19,
     "metadata": {},
     "output_type": "execute_result"
    }
   ],
   "source": [
    "# attempt using IUPAC name \n",
    "bro_2 = MolFromInchi(\"InChI=1S/CH3Br/c1-2/h1H3\")\n",
    "bro_2"
   ]
  },
  {
   "cell_type": "code",
   "execution_count": null,
   "metadata": {},
   "outputs": [
    {
     "data": {
      "image/png": "[encoded data removed]",
      "text/plain": [
       "<rdkit.Chem.rdchem.Mol at 0x10fb62f80>"
      ]
     },
     "execution_count": 22,
     "metadata": {},
     "output_type": "execute_result"
    }
   ],
   "source": [
    "# explicitly adding hydrogen bonding\n",
    "bro_3= Chem.MolFromSmiles(\"[CH3]Br\")\n",
    "bro_3 "
   ]
  },
  {
   "cell_type": "code",
   "execution_count": null,
   "metadata": {},
   "outputs": [
    {
     "name": "stdout",
     "output_type": "stream",
     "text": [
      "CH3Br\n"
     ]
    }
   ],
   "source": [
    "# we can verify the formula of generated molecules\n",
    "formula = rdMolDescriptors.CalcMolFormula(bromemethane)\n",
    "print(formula)"
   ]
  },
  {
   "cell_type": "code",
   "execution_count": 28,
   "metadata": {},
   "outputs": [
    {
     "name": "stdout",
     "output_type": "stream",
     "text": [
      "CHN\n"
     ]
    },
    {
     "data": {
      "image/png": "[encoded data removed]",
      "text/plain": [
       "<rdkit.Chem.rdchem.Mol at 0x10fbaa960>"
      ]
     },
     "execution_count": 28,
     "metadata": {},
     "output_type": "execute_result"
    }
   ],
   "source": [
    "hydrocyanic_acid= Chem.MolFromSmiles(\"C#N\")\n",
    "Draw.MolToImage(hydrocyanic_acid)\n",
    "print(rdMolDescriptors.CalcMolFormula(hydrocyanic_acid))\n",
    "hydrocyanic_acid"
   ]
  },
  {
   "cell_type": "markdown",
   "metadata": {},
   "source": [
    "**Molecule Representations from SMILES strings might not be generated correctly, but the  chemical formulas are detected correctly**"
   ]
  },
  {
   "cell_type": "code",
   "execution_count": null,
   "metadata": {},
   "outputs": [
    {
     "data": {
      "text/plain": [
       "'CHN'"
      ]
     },
     "execution_count": 10,
     "metadata": {},
     "output_type": "execute_result"
    }
   ],
   "source": [
    "results= pubchempy.get_compounds(\"C#N\", namespace=\"smiles\")\n",
    "results[0]"
   ]
  },
  {
   "cell_type": "markdown",
   "metadata": {},
   "source": [
    "### RDKit with different SMILES representations "
   ]
  }
 ],
 "metadata": {
  "kernelspec": {
   "display_name": "newEnv",
   "language": "python",
   "name": "python3"
  },
  "language_info": {
   "codemirror_mode": {
    "name": "ipython",
    "version": 3
   },
   "file_extension": ".py",
   "mimetype": "text/x-python",
   "name": "python",
   "nbconvert_exporter": "python",
   "pygments_lexer": "ipython3",
   "version": "3.12.2"
  }
 },
 "nbformat": 4,
 "nbformat_minor": 2
}
