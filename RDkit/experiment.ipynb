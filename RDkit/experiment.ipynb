{
 "cells": [
  {
   "cell_type": "markdown",
   "metadata": {},
   "source": [
    "### Experimenting with RDkit "
   ]
  },
  {
   "cell_type": "code",
   "execution_count": 1,
   "metadata": {},
   "outputs": [],
   "source": [
    "from rdkit import Chem \n",
    "from rdkit.Chem import Draw\n",
    "from rdkit.Chem.Draw import IPythonConsole \n",
    "from rdkit.Chem import Descriptors \n",
    "from rdkit.Chem import AllChem \n",
    "from rdkit import DataStructs\n",
    "import numpy as np \n",
    "from rdkit.Chem import MolFromInchi\n",
    "from rdkit.Chem import rdMolDescriptors\n",
    "import pubchempy\n"
   ]
  },
  {
   "cell_type": "markdown",
   "metadata": {},
   "source": [
    "## Convering SMILES to molecules \n",
    "This process is done computationally where RDKit follows a certain rule to generate molecule. It's a combination of SMILES string parsing, error handling, and etc. It's not as simple as a look up table. \n",
    "-  RDKit supports plotting of the chemical formula, but this sometimes is not correct \n",
    "-  RDKit generates moleculuar formula along from SMILES strings"
   ]
  },
  {
   "cell_type": "markdown",
   "metadata": {},
   "source": [
    "**Reading molecules from SMILES strings** and examples with omitted Hydrogen bonds "
   ]
  },
  {
   "cell_type": "code",
   "execution_count": 10,
   "metadata": {},
   "outputs": [
    {
     "data": {
      "image/png": "[encoded data removed]",
      "text/plain": [
       "<rdkit.Chem.rdchem.Mol at 0x10f487290>"
      ]
     },
     "execution_count": 10,
     "metadata": {},
     "output_type": "execute_result"
    }
   ],
   "source": [
    "methane= Chem.MolFromSmiles(\"C\")\n",
    "methane "
   ]
  },
  {
   "cell_type": "code",
   "execution_count": 26,
   "metadata": {},
   "outputs": [
    {
     "data": {
      "image/png": "[encoded data removed]",
      "text/plain": [
       "<rdkit.Chem.rdchem.Mol at 0x122c46b20>"
      ]
     },
     "execution_count": 26,
     "metadata": {},
     "output_type": "execute_result"
    }
   ],
   "source": [
    "water= Chem.MolFromSmiles(\"O\")\n",
    "water "
   ]
  },
  {
   "cell_type": "markdown",
   "metadata": {},
   "source": [
    "Failed Plotting of RDKit, but it can still get the chemical formula correct "
   ]
  },
  {
   "cell_type": "code",
   "execution_count": 21,
   "metadata": {},
   "outputs": [
    {
     "data": {
      "image/png": "[encoded data removed]",
      "text/plain": [
       "<rdkit.Chem.rdchem.Mol at 0x10fb634c0>"
      ]
     },
     "execution_count": 21,
     "metadata": {},
     "output_type": "execute_result"
    }
   ],
   "source": [
    "bromemethane= Chem.MolFromSmiles(\"CBr\")\n",
    "bromemethane"
   ]
  },
  {
   "cell_type": "code",
   "execution_count": null,
   "metadata": {},
   "outputs": [
    {
     "data": {
      "image/png": "[encoded data removed]",
      "text/plain": [
       "<rdkit.Chem.rdchem.Mol at 0x10fb62d50>"
      ]
     },
     "execution_count": 19,
     "metadata": {},
     "output_type": "execute_result"
    }
   ],
   "source": [
    "# attempt using IUPAC name \n",
    "bro_2 = MolFromInchi(\"InChI=1S/CH3Br/c1-2/h1H3\")\n",
    "bro_2"
   ]
  },
  {
   "cell_type": "code",
   "execution_count": null,
   "metadata": {},
   "outputs": [
    {
     "data": {
      "image/png": "[encoded data removed]",
      "text/plain": [
       "<rdkit.Chem.rdchem.Mol at 0x10fb62f80>"
      ]
     },
     "execution_count": 22,
     "metadata": {},
     "output_type": "execute_result"
    }
   ],
   "source": [
    "# explicitly adding hydrogen bonding\n",
    "bro_3= Chem.MolFromSmiles(\"[CH3]Br\")\n",
    "bro_3 "
   ]
  },
  {
   "cell_type": "code",
   "execution_count": null,
   "metadata": {},
   "outputs": [
    {
     "name": "stdout",
     "output_type": "stream",
     "text": [
      "CH3Br\n"
     ]
    }
   ],
   "source": [
    "# we can verify the formula of generated molecules\n",
    "formula = rdMolDescriptors.CalcMolFormula(bromemethane)\n",
    "print(formula)"
   ]
  },
  {
   "cell_type": "code",
   "execution_count": 28,
   "metadata": {},
   "outputs": [
    {
     "name": "stdout",
     "output_type": "stream",
     "text": [
      "CHN\n"
     ]
    },
    {
     "data": {
      "image/png": "[encoded data removed]",
      "text/plain": [
       "<rdkit.Chem.rdchem.Mol at 0x10fbaa960>"
      ]
     },
     "execution_count": 28,
     "metadata": {},
     "output_type": "execute_result"
    }
   ],
   "source": [
    "hydrocyanic_acid= Chem.MolFromSmiles(\"C#N\")\n",
    "Draw.MolToImage(hydrocyanic_acid)\n",
    "print(rdMolDescriptors.CalcMolFormula(hydrocyanic_acid))\n",
    "hydrocyanic_acid"
   ]
  },
  {
   "cell_type": "markdown",
   "metadata": {},
   "source": [
    "**Molecule Representations from SMILES strings might not be generated correctly, but the  chemical formulas are detected correctly**"
   ]
  },
  {
   "cell_type": "code",
   "execution_count": null,
   "metadata": {},
   "outputs": [
    {
     "data": {
      "text/plain": [
       "'CHN'"
      ]
     },
     "execution_count": 10,
     "metadata": {},
     "output_type": "execute_result"
    }
   ],
   "source": [
    "results= pubchempy.get_compounds(\"C#N\", namespace=\"smiles\")\n",
    "results[0]"
   ]
  },
  {
   "cell_type": "markdown",
   "metadata": {},
   "source": [
    "### RDKit with different SMILES representations \n",
    "Does RDKit recognize different SMILES representations as the same molecule? "
   ]
  },
  {
   "cell_type": "code",
   "execution_count": null,
   "metadata": {},
   "outputs": [
    {
     "name": "stdout",
     "output_type": "stream",
     "text": [
      "2-amino-3-phenylpropanoic acid\n"
     ]
    },
    {
     "data": {
      "image/png": "[encoded data removed]",
      "text/plain": [
       "<rdkit.Chem.rdchem.Mol at 0x122270200>"
      ]
     },
     "execution_count": 6,
     "metadata": {},
     "output_type": "execute_result"
    }
   ],
   "source": [
    "# canonical representations \n",
    "phenylalanine= Chem.MolFromSmiles(\"C1=CC=C(C=C1)CC(C(=O)O)N\")\n",
    "print(pubchempy.get_compounds(\"C1=CC=C(C=C1)CC(C(=O)O)N\", namespace=\"smiles\")[0].iupac_name)\n",
    "phenylalanine"
   ]
  },
  {
   "cell_type": "code",
   "execution_count": 7,
   "metadata": {},
   "outputs": [
    {
     "name": "stdout",
     "output_type": "stream",
     "text": [
      "(2S)-2-amino-3-phenylpropanoic acid\n"
     ]
    },
    {
     "data": {
      "image/png": "[encoded data removed]",
      "text/plain": [
       "<rdkit.Chem.rdchem.Mol at 0x121ea3d80>"
      ]
     },
     "execution_count": 7,
     "metadata": {},
     "output_type": "execute_result"
    }
   ],
   "source": [
    "phenylalanine_2= Chem.MolFromSmiles(\"C1=CC=C(C=C1)C[C@@H](C(=O)O)N\")\n",
    "print(pubchempy.get_compounds(\"C1=CC=C(C=C1)C[C@@H](C(=O)O)N\", namespace=\"smiles\")[0].iupac_name)\n",
    "phenylalanine_2"
   ]
  },
  {
   "cell_type": "code",
   "execution_count": 13,
   "metadata": {},
   "outputs": [
    {
     "name": "stdout",
     "output_type": "stream",
     "text": [
      "2-aminopropanoic acid\n",
      "C3H7NO2\n"
     ]
    },
    {
     "data": {
      "image/png": "[encoded data removed]",
      "text/plain": [
       "<rdkit.Chem.rdchem.Mol at 0x12229b0d0>"
      ]
     },
     "execution_count": 13,
     "metadata": {},
     "output_type": "execute_result"
    }
   ],
   "source": [
    "# canonical SMILES \n",
    "alanine_1= Chem.MolFromSmiles(\"CC(N)C(=O)O\")\n",
    "print(pubchempy.get_compounds(\"CC(N)C(=O)O\", namespace=\"smiles\")[0].iupac_name)\n",
    "print(rdMolDescriptors.CalcMolFormula(alanine_1))\n",
    "alanine_1"
   ]
  },
  {
   "cell_type": "code",
   "execution_count": 14,
   "metadata": {},
   "outputs": [
    {
     "name": "stdout",
     "output_type": "stream",
     "text": [
      "(2S)-2-aminopropanoic acid\n",
      "C3H7NO2\n"
     ]
    },
    {
     "data": {
      "image/png": "[encoded data removed]",
      "text/plain": [
       "<rdkit.Chem.rdchem.Mol at 0x12229aa40>"
      ]
     },
     "execution_count": 14,
     "metadata": {},
     "output_type": "execute_result"
    }
   ],
   "source": [
    "#isomeric SMILES \n",
    "alanine_iso = Chem.MolFromSmiles(\"C[C@H](N)C(=O)O\")\n",
    "print(pubchempy.get_compounds(\"C[C@H](N)C(=O)O\", namespace=\"smiles\")[0].iupac_name)\n",
    "print(rdMolDescriptors.CalcMolFormula(alanine_iso))\n",
    "alanine_iso"
   ]
  },
  {
   "cell_type": "code",
   "execution_count": 10,
   "metadata": {},
   "outputs": [
    {
     "name": "stdout",
     "output_type": "stream",
     "text": [
      "C(N)(C(O)=O)C\n",
      "CC(C(=O)O)N\n",
      "O=C(O)C(N)C\n",
      "C(C(O)=O)(C)N\n",
      "C(O)(=O)C(C)N\n"
     ]
    }
   ],
   "source": [
    "from SmilesEnumerator import SmilesEnumerator \n",
    "sme= SmilesEnumerator() \n",
    "for i in range (5): \n",
    "    print(sme.randomize_smiles(\"CC(N)C(=O)O\"))"
   ]
  },
  {
   "cell_type": "code",
   "execution_count": 15,
   "metadata": {},
   "outputs": [
    {
     "name": "stdout",
     "output_type": "stream",
     "text": [
      "2-aminopropanoic acid\n",
      "C3H7NO2\n"
     ]
    },
    {
     "data": {
      "image/png": "[encoded data removed]",
      "text/plain": [
       "<rdkit.Chem.rdchem.Mol at 0x12229bc30>"
      ]
     },
     "execution_count": 15,
     "metadata": {},
     "output_type": "execute_result"
    }
   ],
   "source": [
    "# regular SMILES \n",
    "alanine_3= Chem.MolFromSmiles(\"C(N)(C(O)=O)C\")\n",
    "print(pubchempy.get_compounds(\"C(N)(C(O)=O)C\", namespace=\"smiles\")[0].iupac_name)\n",
    "print(rdMolDescriptors.CalcMolFormula(alanine_3))\n",
    "alanine_3"
   ]
  },
  {
   "cell_type": "code",
   "execution_count": 16,
   "metadata": {},
   "outputs": [
    {
     "name": "stdout",
     "output_type": "stream",
     "text": [
      "2-aminopropanoic acid\n",
      "C3H7NO2\n"
     ]
    },
    {
     "data": {
      "image/png": "[encoded data removed]",
      "text/plain": [
       "<rdkit.Chem.rdchem.Mol at 0x121ea3df0>"
      ]
     },
     "execution_count": 16,
     "metadata": {},
     "output_type": "execute_result"
    }
   ],
   "source": [
    "# regular SMILES \n",
    "alanine_4= Chem.MolFromSmiles(\"CC(C(=O)O)N\")\n",
    "print(pubchempy.get_compounds(\"CC(C(=O)O)N\", namespace=\"smiles\")[0].iupac_name)\n",
    "print(rdMolDescriptors.CalcMolFormula(alanine_4))\n",
    "alanine_4"
   ]
  },
  {
   "cell_type": "markdown",
   "metadata": {},
   "source": [
    "**RDKit can recognize isomeric, canonical and regular SMILES of the molecule**"
   ]
  },
  {
   "cell_type": "markdown",
   "metadata": {},
   "source": [
    "## Descriptors in RDKit \n",
    "Descriptors is a tool that allows us to access molecular information about the atom/molecule, such as the molecular weight, number of hydrogen bond acceptor/donors, log P values, etc.  \n",
    "[full list](https://www.rdkit.org/docs/GettingStartedInPython.html#list-of-available-descriptors)  \n",
    "- Similar with {MolFromSmiles}, the Descriptors functions are function based and calculated based on the molecule. It is not from a lookup table as well.  "
   ]
  },
  {
   "cell_type": "code",
   "execution_count": 17,
   "metadata": {},
   "outputs": [],
   "source": [
    "from rdkit.Chem import Descriptors"
   ]
  },
  {
   "cell_type": "markdown",
   "metadata": {},
   "source": [
    "Sample test. In certain cases, the Descriptor doesn't match for all molecules generated from different SMILES representations. This could be caused by the way these molecules are generated from {MolFromSmiles} method. "
   ]
  },
  {
   "cell_type": "code",
   "execution_count": 19,
   "metadata": {},
   "outputs": [
    {
     "name": "stdout",
     "output_type": "stream",
     "text": [
      "Information for 2-aminopropanoic acid\n",
      "Canonical molecule Log P value:  -0.5817999999999999\n",
      "Isomeric molecule Log P value:  -0.5817999999999999\n",
      "Generic molecule Log P value:  -0.5818000000000003\n"
     ]
    }
   ],
   "source": [
    "print(\"Information for 2-aminopropanoic acid\")\n",
    "print(\"Canonical molecule Log P value: \", Descriptors.MolLogP(alanine_1))\n",
    "print(\"Isomeric molecule Log P value: \", Descriptors.MolLogP(alanine_iso))\n",
    "print(\"Generic molecule Log P value: \", Descriptors.MolLogP(alanine_3))"
   ]
  },
  {
   "cell_type": "markdown",
   "metadata": {},
   "source": [
    "These molecular information can be used at different applications, such as testing Lipiski's Rule of 5 "
   ]
  },
  {
   "cell_type": "code",
   "execution_count": 46,
   "metadata": {},
   "outputs": [
    {
     "name": "stdout",
     "output_type": "stream",
     "text": [
      "True\n"
     ]
    }
   ],
   "source": [
    "mol = Chem.MolFromSmiles('CC(=O)Nc1ccc(O)cc1')  # e.g. Paracetamol\n",
    "\n",
    "# Ro5 descriptors\n",
    "MW = Descriptors.MolWt(mol)\n",
    "HBA = Descriptors.NOCount(mol)\n",
    "HBD = Descriptors.NHOHCount(mol)\n",
    "LogP = Descriptors.MolLogP(mol)\n",
    "conditions = [MW <= 500, HBA <= 10, HBD <= 5, LogP <= 5]\n",
    "pass_ro5 = conditions.count(True) >= 3\n",
    "print(pass_ro5)"
   ]
  },
  {
   "cell_type": "markdown",
   "metadata": {},
   "source": [
    "# Substructures \n",
    "We can also obtain/look up substructures of two molecules with RDKit. (We can compare two molecules at a time)"
   ]
  },
  {
   "cell_type": "code",
   "execution_count": 22,
   "metadata": {},
   "outputs": [
    {
     "data": {
      "image/png": "[encoded data removed]",
      "text/plain": [
       "<rdkit.Chem.rdchem.Mol at 0x1222dbe60>"
      ]
     },
     "execution_count": 22,
     "metadata": {},
     "output_type": "execute_result"
    }
   ],
   "source": [
    "benzene = Chem.MolFromSmiles(\"c1ccccc1\")\n",
    "benzene "
   ]
  },
  {
   "cell_type": "code",
   "execution_count": 23,
   "metadata": {},
   "outputs": [
    {
     "data": {
      "image/png": "[encoded data removed]",
      "text/plain": [
       "<rdkit.Chem.rdchem.Mol at 0x122270200>"
      ]
     },
     "execution_count": 23,
     "metadata": {},
     "output_type": "execute_result"
    }
   ],
   "source": [
    "matches = phenylalanine.GetSubstructMatches(benzene)\n",
    "phenylalanine"
   ]
  },
  {
   "cell_type": "code",
   "execution_count": 24,
   "metadata": {},
   "outputs": [
    {
     "data": {
      "text/plain": [
       "((0, 1, 2, 3, 4, 5),)"
      ]
     },
     "execution_count": 24,
     "metadata": {},
     "output_type": "execute_result"
    }
   ],
   "source": [
    "matches"
   ]
  }
 ],
 "metadata": {
  "kernelspec": {
   "display_name": "newEnv",
   "language": "python",
   "name": "python3"
  },
  "language_info": {
   "codemirror_mode": {
    "name": "ipython",
    "version": 3
   },
   "file_extension": ".py",
   "mimetype": "text/x-python",
   "name": "python",
   "nbconvert_exporter": "python",
   "pygments_lexer": "ipython3",
   "version": "3.12.2"
  }
 },
 "nbformat": 4,
 "nbformat_minor": 2
}
