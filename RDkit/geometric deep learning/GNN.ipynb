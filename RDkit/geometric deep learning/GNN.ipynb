{
 "cells": [
  {
   "cell_type": "markdown",
   "metadata": {},
   "source": [
    "## Graph Neural Networks "
   ]
  },
  {
   "cell_type": "markdown",
   "metadata": {},
   "source": [
    "### Process Data as Graphs \n",
    "- Process the information as nodes and edges/links. Based on the ordering of these nodes and graphs, we get different inputs. --> We can translate an ordeirng of graph into a tabular/picture input  "
   ]
  },
  {
   "cell_type": "markdown",
   "metadata": {},
   "source": [
    "### Problems with processing graphs with traditional neural networks \n",
    "- Graphs are of different sizes (edges or nodes), and we can't change their size easily through padding/deletion like what we did with picture/tabular data. So traditional NN can't process graph data as easily   \n",
    "\n",
    "- Graphs have the property of isomorphism. Two structurally same graphs (same number of nodes and edges but at different ordering) maybe processed by the neural network as different inputs when they are the same input (i.e. a rotated picture). So graph NN needs to be permutation invariant  \n",
    "   \n",
    "- Graph data are also not the same as tabular data that is based on a grid because graphs are non-euclidean. This makes hard to use traditional ML techniques such as convolution which only works on tabular data. "
   ]
  },
  {
   "cell_type": "markdown",
   "metadata": {},
   "source": [
    "### GNN and Message Passing \n",
    "- Uses embedding layers to embed nodes and edges --> embeded nodes and edges have information about other nodes/edges or the entire graph   \n",
    "  \n",
    "- With the embedded values/vectors, we can use the embedding to predict the nodes and edges of the entire graph   \n",
    "  \n",
    "- The hidden layers are known as Message Passing layers (passing information about other nodes/edges to other nodes). The specific implementation of these layers are done using Graph Convolution Network.   \n",
    "  \n",
    "- Similar with CNN convolutions, **graph convolution/message passing** determines a node neighborhood of certain size. Then we can take the embedded information of all those neighbors with the current node. Combine the information of neighbor nodes then add with the current node to get the new embedding information   \n",
    "  \n",
    "- Each convolution/message passing only looks at one neighborhood, after the first passing, each node **will have information about at least 1 other nodes** (assume we don't have an isolated node). And it's possible for two nodes to not have any information about each other. After repeating the message passing layers, the nodes will have more information about all other nodes.  (Starting from direct neighor to neighbor's neighbors)\n",
    "  \n",
    "- The embedding of the nodes are vectors containing information about other nodes and itself (think of embedding in transformers). The number of message passing we do is the number of hidden layers of a GNN   \n",
    "  \n",
    "- If we have too many message passing layers, the nodes may learn too much information about the neighbors, and the nodes become similar to each other (**over smoothing**), this leads to information loss    \n",
    "  \n",
    "- Message Passing: $$h_u^{k+1} = update(h_u + aggregrate(h_v   \\forall v \\in u_{neighbor}))$$  \n",
    "- Variants of GNN varies in how the message passing updates the current node's information "
   ]
  },
  {
   "cell_type": "code",
   "execution_count": 14,
   "metadata": {},
   "outputs": [],
   "source": [
    "import torch \n",
    "import sys\n",
    "import os\n",
    "from torch_geometric.datasets import MoleculeNet \n",
    "import rdkit \n",
    "from rdkit import Chem \n",
    "from rdkit.Chem import Descriptors"
   ]
  },
  {
   "cell_type": "markdown",
   "metadata": {},
   "source": [
    "ESOL dataset is consisted of molecules in their SMILES strings and graph representations (nodes and edges) and their solubility.  \n",
    "\n",
    "**Note** that Pytorch Geometric uses RDKit at processing these datasets. So the node and attribute information are most likely extracted using RDKit in the background. "
   ]
  },
  {
   "cell_type": "code",
   "execution_count": 2,
   "metadata": {},
   "outputs": [
    {
     "data": {
      "text/plain": [
       "ESOL(1128)"
      ]
     },
     "execution_count": 2,
     "metadata": {},
     "output_type": "execute_result"
    }
   ],
   "source": [
    "data= MoleculeNet(root='.', name= \"ESOL\")\n",
    "data "
   ]
  },
  {
   "cell_type": "code",
   "execution_count": 3,
   "metadata": {},
   "outputs": [
    {
     "name": "stdout",
     "output_type": "stream",
     "text": [
      "Dataset type:  <class 'torch_geometric.datasets.molecule_net.MoleculeNet'>\n",
      "Dataset features:  9\n",
      "Dataset target:  734\n",
      "Dataset length:  <bound method InMemoryDataset.len of ESOL(1128)>\n",
      "Dataset sample:  Data(x=[32, 9], edge_index=[2, 68], edge_attr=[68, 3], smiles='OCC3OC(OCC2OC(OC(C#N)c1ccccc1)C(O)C(O)C2O)C(O)C(O)C3O ', y=[1, 1])\n",
      "Sample  nodes:  32\n",
      "Sample  edges:  68\n"
     ]
    },
    {
     "name": "stderr",
     "output_type": "stream",
     "text": [
      "/opt/anaconda3/envs/newEnv/lib/python3.12/site-packages/torch_geometric/data/dataset.py:169: UserWarning: Found floating-point labels while calling `dataset.num_classes`. Returning the number of unique elements. Please make sure that this is expected before proceeding.\n",
      "  warnings.warn(\"Found floating-point labels while calling \"\n"
     ]
    }
   ],
   "source": [
    "print(\"Dataset type: \", type(data))\n",
    "print(\"Dataset features: \", data.num_features)\n",
    "print(\"Dataset target: \", data.num_classes)\n",
    "print(\"Dataset length: \", data.len)\n",
    "print(\"Dataset sample: \", data[0])  \n",
    "print(\"Sample  nodes: \", data[0].num_nodes) \n",
    "print(\"Sample  edges: \", data[0].num_edges)\n",
    "\n",
    "# each sample of the data is a molecule containing its nodes with attributes (numerical values) predicting for one label \n",
    "# edge_index is alike the adjacency matrix that tells the connection between nodes. The first row is the node and the second row is the other node the corresponding node is connected to \n",
    "# edge_attr is "
   ]
  },
  {
   "cell_type": "code",
   "execution_count": null,
   "metadata": {},
   "outputs": [
    {
     "name": "stdout",
     "output_type": "stream",
     "text": [
      "32\n"
     ]
    },
    {
     "data": {
      "image/png": "[encoded data removed]",
      "text/plain": [
       "<rdkit.Chem.rdchem.Mol at 0x16c02b370>"
      ]
     },
     "execution_count": 5,
     "metadata": {},
     "output_type": "execute_result"
    }
   ],
   "source": [
    "# process the first data of the dataset \n",
    "mol = Chem.MolFromSmiles(\"OCC3OC(OCC2OC(OC(C#N)c1ccccc1)C(O)C(O)C2O)C(O)C(O)C3O\")   # rdkit \n",
    "print(mol.GetNumAtoms())    # 32 nodes, so each ndoe is an atom \n",
    "mol "
   ]
  },
  {
   "cell_type": "code",
   "execution_count": 5,
   "metadata": {},
   "outputs": [
    {
     "data": {
      "text/plain": [
       "tensor([[8, 0, 2, 5, 1, 0, 4, 0, 0],\n",
       "        [6, 0, 4, 5, 2, 0, 4, 0, 0],\n",
       "        [6, 0, 4, 5, 1, 0, 4, 0, 1],\n",
       "        [8, 0, 2, 5, 0, 0, 4, 0, 1],\n",
       "        [6, 0, 4, 5, 1, 0, 4, 0, 1],\n",
       "        [8, 0, 2, 5, 0, 0, 4, 0, 0],\n",
       "        [6, 0, 4, 5, 2, 0, 4, 0, 0],\n",
       "        [6, 0, 4, 5, 1, 0, 4, 0, 1],\n",
       "        [8, 0, 2, 5, 0, 0, 4, 0, 1],\n",
       "        [6, 0, 4, 5, 1, 0, 4, 0, 1],\n",
       "        [8, 0, 2, 5, 0, 0, 4, 0, 0],\n",
       "        [6, 0, 4, 5, 1, 0, 4, 0, 0],\n",
       "        [6, 0, 2, 5, 0, 0, 2, 0, 0],\n",
       "        [7, 0, 1, 5, 0, 0, 2, 0, 0],\n",
       "        [6, 0, 3, 5, 0, 0, 3, 1, 1],\n",
       "        [6, 0, 3, 5, 1, 0, 3, 1, 1],\n",
       "        [6, 0, 3, 5, 1, 0, 3, 1, 1],\n",
       "        [6, 0, 3, 5, 1, 0, 3, 1, 1],\n",
       "        [6, 0, 3, 5, 1, 0, 3, 1, 1],\n",
       "        [6, 0, 3, 5, 1, 0, 3, 1, 1],\n",
       "        [6, 0, 4, 5, 1, 0, 4, 0, 1],\n",
       "        [8, 0, 2, 5, 1, 0, 4, 0, 0],\n",
       "        [6, 0, 4, 5, 1, 0, 4, 0, 1],\n",
       "        [8, 0, 2, 5, 1, 0, 4, 0, 0],\n",
       "        [6, 0, 4, 5, 1, 0, 4, 0, 1],\n",
       "        [8, 0, 2, 5, 1, 0, 4, 0, 0],\n",
       "        [6, 0, 4, 5, 1, 0, 4, 0, 1],\n",
       "        [8, 0, 2, 5, 1, 0, 4, 0, 0],\n",
       "        [6, 0, 4, 5, 1, 0, 4, 0, 1],\n",
       "        [8, 0, 2, 5, 1, 0, 4, 0, 0],\n",
       "        [6, 0, 4, 5, 1, 0, 4, 0, 1],\n",
       "        [8, 0, 2, 5, 1, 0, 4, 0, 0]])"
      ]
     },
     "execution_count": 5,
     "metadata": {},
     "output_type": "execute_result"
    }
   ],
   "source": [
    "data[0].x   # returns the 32 nodes each with an embedding/attribute dimension of 9 "
   ]
  },
  {
   "cell_type": "code",
   "execution_count": 6,
   "metadata": {},
   "outputs": [
    {
     "data": {
      "text/plain": [
       "tensor([[ 0,  1],\n",
       "        [ 1,  0],\n",
       "        [ 1,  2],\n",
       "        [ 2,  1],\n",
       "        [ 2,  3],\n",
       "        [ 2, 30],\n",
       "        [ 3,  2],\n",
       "        [ 3,  4],\n",
       "        [ 4,  3],\n",
       "        [ 4,  5],\n",
       "        [ 4, 26],\n",
       "        [ 5,  4],\n",
       "        [ 5,  6],\n",
       "        [ 6,  5],\n",
       "        [ 6,  7],\n",
       "        [ 7,  6],\n",
       "        [ 7,  8],\n",
       "        [ 7, 24],\n",
       "        [ 8,  7],\n",
       "        [ 8,  9],\n",
       "        [ 9,  8],\n",
       "        [ 9, 10],\n",
       "        [ 9, 20],\n",
       "        [10,  9],\n",
       "        [10, 11],\n",
       "        [11, 10],\n",
       "        [11, 12],\n",
       "        [11, 14],\n",
       "        [12, 11],\n",
       "        [12, 13],\n",
       "        [13, 12],\n",
       "        [14, 11],\n",
       "        [14, 15],\n",
       "        [14, 19],\n",
       "        [15, 14],\n",
       "        [15, 16],\n",
       "        [16, 15],\n",
       "        [16, 17],\n",
       "        [17, 16],\n",
       "        [17, 18],\n",
       "        [18, 17],\n",
       "        [18, 19],\n",
       "        [19, 14],\n",
       "        [19, 18],\n",
       "        [20,  9],\n",
       "        [20, 21],\n",
       "        [20, 22],\n",
       "        [21, 20],\n",
       "        [22, 20],\n",
       "        [22, 23],\n",
       "        [22, 24],\n",
       "        [23, 22],\n",
       "        [24,  7],\n",
       "        [24, 22],\n",
       "        [24, 25],\n",
       "        [25, 24],\n",
       "        [26,  4],\n",
       "        [26, 27],\n",
       "        [26, 28],\n",
       "        [27, 26],\n",
       "        [28, 26],\n",
       "        [28, 29],\n",
       "        [28, 30],\n",
       "        [29, 28],\n",
       "        [30,  2],\n",
       "        [30, 28],\n",
       "        [30, 31],\n",
       "        [31, 30]])"
      ]
     },
     "execution_count": 6,
     "metadata": {},
     "output_type": "execute_result"
    }
   ],
   "source": [
    "# edge connections \n",
    "data[0].edge_index.t()  # take the transpose to show the connection more clearly \n",
    "\n",
    "# edge_index is more efficient than a regular adjency matrix because of less space usage "
   ]
  },
  {
   "cell_type": "code",
   "execution_count": 7,
   "metadata": {},
   "outputs": [
    {
     "data": {
      "text/plain": [
       "tensor([[-0.7700]])"
      ]
     },
     "execution_count": 7,
     "metadata": {},
     "output_type": "execute_result"
    }
   ],
   "source": [
    "data[0].y   # the ground truth label for the corresponing graph. \n",
    "\n",
    "# In this context, the ground truth is the solubility of a given molecule (this is a grpah level prediction task)"
   ]
  },
  {
   "cell_type": "markdown",
   "metadata": {},
   "source": [
    "### Implementation of Graph Convolution Network    \n",
    "- Similar implementation as a CNN   "
   ]
  },
  {
   "cell_type": "code",
   "execution_count": 8,
   "metadata": {},
   "outputs": [],
   "source": [
    "import torch.nn.functional as F \n",
    "from torch_geometric.nn import GCNConv, TopKPooling, global_mean_pool\n",
    "from torch_geometric.nn import global_mean_pool as gap, global_max_pool as gmp\n",
    "import torch.nn as nn "
   ]
  },
  {
   "cell_type": "code",
   "execution_count": 23,
   "metadata": {},
   "outputs": [
    {
     "name": "stdout",
     "output_type": "stream",
     "text": [
      "GCN(\n",
      "  (initial_conv): GCNConv(9, 64)\n",
      "  (conv1): GCNConv(64, 64)\n",
      "  (conv2): GCNConv(64, 64)\n",
      "  (conv3): GCNConv(64, 64)\n",
      "  (out): Linear(in_features=128, out_features=1, bias=True)\n",
      ")\n",
      "Element parameters: 64\n",
      "Element parameters: 576\n",
      "Element parameters: 64\n",
      "Element parameters: 4096\n",
      "Element parameters: 64\n",
      "Element parameters: 4096\n",
      "Element parameters: 64\n",
      "Element parameters: 4096\n",
      "Element parameters: 128\n",
      "Element parameters: 1\n"
     ]
    }
   ],
   "source": [
    "embedding_size= 64 \n",
    "class GCN (nn.Module):\n",
    "    def __init__(self): \n",
    "        super(GCN, self).__init__()  \n",
    "\n",
    "        # GCN layers \n",
    "        self.initial_conv= GCNConv(data.num_features, embedding_size)   # embed the dimension of each node from initial information to embedding size \n",
    "        self.conv1= GCNConv(embedding_size, embedding_size) # same convolution size at the embedding \n",
    "        self.conv2 = GCNConv(embedding_size, embedding_size)\n",
    "        self.conv3 = GCNConv(embedding_size, embedding_size)\n",
    "\n",
    "        # output to a single prediction \n",
    "        self.out = nn.Linear(embedding_size*2, 1)   # output to  1 to match with the label size \n",
    "    # x is the input nodes \n",
    "    # edge_index corresponds to the nodes that are connected (we need edge_index to find the nearest edge to do the convolution) \n",
    "    def forward(self, x, edge_index, batch_index):\n",
    "        hidden = self.initial_conv(x, edge_index)   # 576 parameters at conv + 64 at bias\n",
    "        hidden = F.tanh(hidden)     \n",
    "\n",
    "         # Other Conv layers\n",
    "        hidden = self.conv1(hidden, edge_index)\n",
    "        hidden = F.tanh(hidden)\n",
    "        hidden = self.conv2(hidden, edge_index)\n",
    "        hidden = F.tanh(hidden)\n",
    "        hidden = self.conv3(hidden, edge_index)\n",
    "        hidden = F.tanh(hidden)\n",
    "\n",
    "        # mean pool and max pool after 3 times of message pooling\n",
    "        # concatenate column wise \n",
    "        hidden= torch.cat([gmp(hidden, batch_index),gap(hidden,batch_index)], dim=1 ) # 64 + 64=128 \n",
    "        # graph max pool and graph mean pool will take the entire embedding of all the nodes and do mean/max on them \n",
    "        # we then concatenate the max and pool embeddings as one embedding \n",
    "        # then we take all the information and use Linear() to output 1 prediction \n",
    "        # batch_index is passed in to help select which nodes' embedding vectors to be added \n",
    "        # Given a number of nodes with their embedding (size 64 in this case), max and mean compute the max and mean of those embeddings elementwise to get one final 64 dim embedding as max and 64 as mean\n",
    "\n",
    "        out = self.out (hidden)\n",
    "        return out, hidden \n",
    "    \n",
    "model= GCN() \n",
    "print(model)\n",
    "for p in model.parameters(): \n",
    "    print(\"Element parameters:\", p.numel())\n",
    "\n",
    "\n",
    "# 4096 parameters came from conv layers \n",
    "# 64 parameters are bias of the conv layer\n",
    "# 128 parameters because out hidden is 128 dimensional (concatenated)\n",
    "# 1 parameter is the bias of the linear "
   ]
  },
  {
   "cell_type": "code",
   "execution_count": null,
   "metadata": {},
   "outputs": [
    {
     "name": "stderr",
     "output_type": "stream",
     "text": [
      "/opt/anaconda3/envs/newEnv/lib/python3.12/site-packages/torch_geometric/deprecation.py:26: UserWarning: 'data.DataLoader' is deprecated, use 'loader.DataLoader' instead\n",
      "  warnings.warn(out)\n"
     ]
    },
    {
     "name": "stdout",
     "output_type": "stream",
     "text": [
      "Epoch:0 | Loss: 5.5316948890686035\n",
      "Epoch:100 | Loss: 1.3072565793991089\n",
      "Epoch:200 | Loss: 0.9119471907615662\n",
      "Epoch:300 | Loss: 0.33217883110046387\n",
      "Epoch:400 | Loss: 0.3812631666660309\n",
      "Epoch:500 | Loss: 0.7974088191986084\n",
      "Epoch:600 | Loss: 0.8815068602561951\n",
      "Epoch:700 | Loss: 0.4722096920013428\n",
      "Epoch:800 | Loss: 0.5065104365348816\n",
      "Epoch:900 | Loss: 0.1833658367395401\n",
      "Epoch:1000 | Loss: 0.2375849485397339\n",
      "Epoch:1100 | Loss: 0.22129060328006744\n",
      "Epoch:1200 | Loss: 0.07339084148406982\n",
      "Epoch:1300 | Loss: 0.08988898247480392\n",
      "Epoch:1400 | Loss: 0.07881582528352737\n",
      "Epoch:1500 | Loss: 0.020577041432261467\n",
      "Epoch:1600 | Loss: 0.31766477227211\n",
      "Epoch:1700 | Loss: 0.04936578869819641\n",
      "Epoch:1800 | Loss: 0.04518899321556091\n",
      "Epoch:1900 | Loss: 0.024692974984645844\n"
     ]
    }
   ],
   "source": [
    "from torch_geometric.data import DataLoader \n",
    "loss_fn = torch.nn.MSELoss() \n",
    "optimizer = torch.optim.Adam(model.parameters(), lr= 0.0007)\n",
    "\n",
    "# load into data loader \n",
    "data_size= len(data)    # 1128 data points/molecules \n",
    "num_graphs_batch=64     # number of graphs=molecules in one training batch \n",
    "train_loader = DataLoader(data[:int(data_size*0.8)], batch_size=num_graphs_batch, shuffle=True)   # leave some as test data \n",
    "test_loader= DataLoader(data[int(data_size*0.8):], batch_size=num_graphs_batch, shuffle=True)    # test data \n",
    "\n",
    "def train(data):\n",
    "    for batch in train_loader:  # dataloader breaks into batch, load each batch \n",
    "        optimizer.zero_grad() \n",
    "        pred, embedding= model(batch.x.float(), batch.edge_index ,batch.batch) # we'll pass in the embedding value, edge_index for convolution, and batch_index for max and mean pool \n",
    "        # shape: (batch,1)\n",
    "        loss = loss_fn(pred, batch.y)\n",
    "        loss.backward() \n",
    "        optimizer.step() \n",
    "    return loss, embedding  # return the embedding of the last batch \n",
    "\n",
    "losses = []\n",
    "for epoch in range(2000):\n",
    "    loss,h = train(data)\n",
    "    losses.append(loss)\n",
    "    if (epoch %100==0):\n",
    "        print(f'Epoch:{epoch} | Loss: {loss}')\n",
    "        \n"
   ]
  },
  {
   "cell_type": "markdown",
   "metadata": {},
   "source": [
    "#### Batch_Index \n",
    "- The batch Index is used to help track which nodes belong to which graph (because our data is consisted of different number of nodes and edges), then max and mean pool uses the batch_index to know which nodes belong to each graph because our batch has many graphs, so they can do max/mean on each specific graph   \n",
    "  \n",
    "- The ordering of numbers (0,0,0...) in batch indicates which graph these nodes belong to, for example 0 -> first graph, 1 -> second graph, etc. \n"
   ]
  },
  {
   "cell_type": "code",
   "execution_count": null,
   "metadata": {},
   "outputs": [
    {
     "name": "stdout",
     "output_type": "stream",
     "text": [
      "64\n",
      "torch.Size([866])\n"
     ]
    },
    {
     "data": {
      "text/plain": [
       "tensor([ 0,  0,  0,  0,  0,  0,  0,  0,  0,  1,  1,  1,  1,  1,  1,  1,  2,  2,\n",
       "         2,  2,  2,  2,  2,  2,  3,  3,  3,  3,  4,  4,  4,  4,  4,  4,  4,  4,\n",
       "         4,  4,  4,  4,  4,  4,  4,  4,  4,  4,  4,  4,  4,  4,  4,  4,  4,  4,\n",
       "         4,  4,  4,  5,  5,  5,  5,  5,  5,  5,  5,  6,  6,  6,  6,  6,  6,  6,\n",
       "         6,  6,  6,  6,  6,  7,  7,  7,  7,  7,  7,  7,  7,  7,  7,  7,  7,  7,\n",
       "         7,  7,  7,  7,  7,  7,  7,  7,  7,  7,  7,  7,  8,  8,  8,  8,  8,  8,\n",
       "         8,  8,  8,  8,  8,  9,  9,  9,  9,  9,  9,  9,  9,  9, 10, 10, 10, 10,\n",
       "        10, 10, 10, 10, 10, 10, 10, 10, 10, 10, 10, 10, 10, 10, 10, 10, 10, 10,\n",
       "        10, 11, 11, 11, 11, 11, 12, 12, 12, 12, 12, 12, 12, 12, 12, 12, 12, 12,\n",
       "        12, 12, 13, 13, 13, 13, 13, 13, 13, 13, 13, 13, 13, 13, 13, 13, 14, 14,\n",
       "        14, 14, 14, 14, 15, 15, 15, 15, 15, 15, 15, 15, 15, 15, 15, 15, 15, 15,\n",
       "        15, 16, 16, 16, 16, 16, 16, 16, 16, 16, 16, 16, 16, 16, 16, 16, 16, 16,\n",
       "        16, 17, 17, 17, 17, 17, 17, 17, 17, 18, 18, 18, 18, 18, 18, 18, 19, 19,\n",
       "        19, 19, 19, 19, 19, 19, 19, 19, 19, 19, 19, 20, 20, 20, 20, 20, 20, 20,\n",
       "        20, 20, 20, 20, 20, 20, 20, 20, 20, 20, 20, 20, 20, 20, 20, 20, 20, 20,\n",
       "        21, 21, 21, 21, 21, 21, 21, 22, 22, 22, 22, 22, 22, 22, 22, 22, 22, 22,\n",
       "        22, 22, 22, 23, 23, 23, 23, 23, 23, 23, 23, 23, 23, 23, 23, 23, 23, 23,\n",
       "        23, 23, 23, 23, 24, 24, 24, 24, 24, 24, 24, 24, 24, 24, 24, 24, 24, 24,\n",
       "        24, 24, 24, 25, 25, 25, 25, 25, 25, 25, 25, 25, 25, 26, 26, 26, 26, 26,\n",
       "        26, 26, 26, 26, 26, 26, 26, 26, 26, 27, 27, 27, 27, 27, 27, 27, 27, 27,\n",
       "        27, 27, 27, 27, 27, 27, 27, 27, 27, 27, 27, 27, 27, 27, 27, 27, 27, 28,\n",
       "        28, 28, 28, 28, 28, 28, 28, 28, 28, 28, 28, 28, 28, 28, 28, 28, 29, 29,\n",
       "        29, 29, 29, 29, 29, 29, 29, 29, 29, 29, 29, 29, 29, 29, 30, 30, 30, 30,\n",
       "        30, 30, 30, 31, 31, 31, 31, 31, 31, 31, 31, 31, 32, 32, 32, 32, 32, 32,\n",
       "        32, 32, 32, 32, 33, 33, 33, 33, 33, 33, 33, 33, 33, 33, 33, 34, 34, 34,\n",
       "        34, 34, 34, 34, 34, 34, 34, 34, 34, 34, 34, 34, 34, 34, 34, 35, 35, 35,\n",
       "        35, 35, 35, 35, 35, 36, 36, 36, 36, 36, 36, 36, 36, 36, 36, 37, 37, 37,\n",
       "        37, 37, 37, 37, 37, 37, 37, 38, 38, 38, 38, 38, 38, 38, 38, 38, 38, 38,\n",
       "        38, 38, 38, 39, 39, 39, 39, 39, 39, 39, 39, 39, 40, 40, 40, 40, 40, 41,\n",
       "        41, 41, 41, 41, 41, 41, 41, 41, 42, 42, 42, 42, 42, 42, 42, 42, 42, 42,\n",
       "        42, 42, 42, 42, 42, 42, 42, 42, 42, 42, 42, 42, 42, 43, 43, 43, 43, 43,\n",
       "        43, 43, 43, 43, 43, 43, 43, 43, 43, 44, 44, 44, 44, 44, 44, 44, 44, 44,\n",
       "        44, 44, 44, 44, 44, 44, 44, 44, 44, 44, 44, 44, 44, 44, 44, 44, 44, 44,\n",
       "        45, 45, 45, 45, 45, 45, 45, 45, 45, 45, 45, 45, 45, 46, 46, 46, 46, 46,\n",
       "        46, 46, 46, 46, 46, 46, 46, 46, 46, 46, 46, 46, 46, 46, 47, 47, 47, 47,\n",
       "        47, 47, 48, 48, 48, 48, 48, 48, 48, 48, 48, 48, 48, 48, 48, 48, 49, 49,\n",
       "        49, 49, 49, 49, 49, 49, 49, 49, 49, 49, 50, 50, 50, 50, 50, 50, 50, 50,\n",
       "        51, 51, 51, 51, 51, 51, 51, 51, 51, 51, 51, 51, 51, 51, 52, 52, 52, 52,\n",
       "        52, 52, 52, 52, 52, 52, 52, 52, 52, 52, 52, 52, 52, 52, 52, 52, 52, 53,\n",
       "        53, 53, 53, 53, 53, 53, 53, 53, 53, 53, 53, 53, 53, 53, 53, 53, 53, 53,\n",
       "        53, 53, 53, 53, 54, 54, 54, 54, 54, 54, 54, 54, 54, 54, 54, 54, 54, 55,\n",
       "        55, 55, 55, 55, 55, 55, 55, 55, 55, 55, 55, 55, 55, 55, 55, 55, 55, 55,\n",
       "        56, 56, 56, 56, 56, 56, 56, 56, 56, 56, 57, 57, 57, 57, 57, 57, 57, 57,\n",
       "        57, 57, 57, 57, 57, 57, 57, 57, 58, 58, 58, 58, 58, 58, 59, 59, 59, 60,\n",
       "        60, 60, 60, 60, 60, 60, 60, 60, 60, 60, 60, 60, 61, 61, 61, 61, 61, 61,\n",
       "        61, 61, 61, 61, 61, 61, 61, 61, 61, 61, 61, 61, 61, 61, 61, 62, 62, 62,\n",
       "        62, 62, 62, 62, 62, 62, 62, 62, 62, 62, 62, 62, 62, 62, 62, 62, 62, 62,\n",
       "        63, 63, 63, 63, 63, 63, 63, 63, 63, 63, 63, 63, 63, 63, 63, 63, 63, 63,\n",
       "        63, 63])"
      ]
     },
     "execution_count": 50,
     "metadata": {},
     "output_type": "execute_result"
    }
   ],
   "source": [
    "b=next(iter(test_loader))\n",
    "print(len(b))   # 64 training examples, so we have 0->63 in batch \n",
    "print(b.batch.shape)    # total of 846 nodes \n",
    "b.batch"
   ]
  },
  {
   "cell_type": "code",
   "execution_count": 31,
   "metadata": {},
   "outputs": [
    {
     "data": {
      "text/plain": [
       "<Axes: >"
      ]
     },
     "execution_count": 31,
     "metadata": {},
     "output_type": "execute_result"
    },
    {
     "data": {
      "image/png": "[encoded data removed]",
      "text/plain": [
       "<Figure size 640x480 with 1 Axes>"
      ]
     },
     "metadata": {},
     "output_type": "display_data"
    }
   ],
   "source": [
    "# plot the errors \n",
    "import seaborn as sns \n",
    "losses_float = [float(loss.cpu().detach()) for loss in losses]\n",
    "loss_index = [i for i,_ in enumerate(losses_float)]\n",
    "plt = sns.lineplot(x=loss_index, y=losses_float)\n",
    "plt \n"
   ]
  },
  {
   "cell_type": "code",
   "execution_count": null,
   "metadata": {},
   "outputs": [
    {
     "name": "stdout",
     "output_type": "stream",
     "text": [
      "[[-3.630000114440918], [-4.631999969482422], [-3.7899999618530273], [-2.109999895095825], [-0.4000000059604645], [0.15000000596046448], [-1.0800000429153442], [-1.4900000095367432], [-1.7419999837875366], [-2.5179998874664307], [-3.5], [-4.71999979019165], [-2.3399999141693115], [-3.9000000953674316], [-1.8300000429153442], [-3.239000082015991], [-5.190000057220459], [-5.230000019073486], [-1.2999999523162842], [-6.090000152587891], [-0.8500000238418579], [-2.3489999771118164], [-4.659999847412109], [0.10000000149011612], [-3.180000066757202], [-4.590000152587891], [-1.600000023841858], [-0.800000011920929], [-2.3499999046325684], [-5.849999904632568], [-2.2809998989105225], [-8.5600004196167], [0.019999999552965164], [-3.880000114440918], [-2.119999885559082], [-0.009999999776482582], [-4.521999835968018], [-0.23999999463558197], [-4.570000171661377], [0.15000000596046448], [-3.5899999141693115], [-2.2100000381469727], [-2.5399999618530273], [-2.9820001125335693], [-0.7300000190734863], [-1.9600000381469727], [-3.759999990463257], [-2.5999999046325684], [-1.6799999475479126], [-3.4000000953674316], [-4.099999904632568], [-3.190000057220459], [-3.0999999046325684], [-4.882999897003174], [-2.1600000858306885], [-5.03000020980835], [0.25999999046325684], [-1.2100000381469727], [-5.239999771118164], [1.1440000534057617], [-3.0910000801086426], [-2.691999912261963], [0.3499999940395355], [-0.36399999260902405]]\n"
     ]
    },
    {
     "data": {
      "text/html": [
       "<div>\n",
       "<style scoped>\n",
       "    .dataframe tbody tr th:only-of-type {\n",
       "        vertical-align: middle;\n",
       "    }\n",
       "\n",
       "    .dataframe tbody tr th {\n",
       "        vertical-align: top;\n",
       "    }\n",
       "\n",
       "    .dataframe thead th {\n",
       "        text-align: right;\n",
       "    }\n",
       "</style>\n",
       "<table border=\"1\" class=\"dataframe\">\n",
       "  <thead>\n",
       "    <tr style=\"text-align: right;\">\n",
       "      <th></th>\n",
       "      <th>y_real</th>\n",
       "      <th>y_pred</th>\n",
       "    </tr>\n",
       "  </thead>\n",
       "  <tbody>\n",
       "    <tr>\n",
       "      <th>0</th>\n",
       "      <td>-3.630</td>\n",
       "      <td>-4.763083</td>\n",
       "    </tr>\n",
       "    <tr>\n",
       "      <th>1</th>\n",
       "      <td>-4.632</td>\n",
       "      <td>-4.695093</td>\n",
       "    </tr>\n",
       "    <tr>\n",
       "      <th>2</th>\n",
       "      <td>-3.790</td>\n",
       "      <td>-3.658044</td>\n",
       "    </tr>\n",
       "    <tr>\n",
       "      <th>3</th>\n",
       "      <td>-2.110</td>\n",
       "      <td>-1.666249</td>\n",
       "    </tr>\n",
       "    <tr>\n",
       "      <th>4</th>\n",
       "      <td>-0.400</td>\n",
       "      <td>-0.501847</td>\n",
       "    </tr>\n",
       "    <tr>\n",
       "      <th>...</th>\n",
       "      <td>...</td>\n",
       "      <td>...</td>\n",
       "    </tr>\n",
       "    <tr>\n",
       "      <th>59</th>\n",
       "      <td>1.144</td>\n",
       "      <td>0.568548</td>\n",
       "    </tr>\n",
       "    <tr>\n",
       "      <th>60</th>\n",
       "      <td>-3.091</td>\n",
       "      <td>-3.521595</td>\n",
       "    </tr>\n",
       "    <tr>\n",
       "      <th>61</th>\n",
       "      <td>-2.692</td>\n",
       "      <td>-3.095074</td>\n",
       "    </tr>\n",
       "    <tr>\n",
       "      <th>62</th>\n",
       "      <td>0.350</td>\n",
       "      <td>0.463480</td>\n",
       "    </tr>\n",
       "    <tr>\n",
       "      <th>63</th>\n",
       "      <td>-0.364</td>\n",
       "      <td>-2.095889</td>\n",
       "    </tr>\n",
       "  </tbody>\n",
       "</table>\n",
       "<p>64 rows × 2 columns</p>\n",
       "</div>"
      ],
      "text/plain": [
       "    y_real    y_pred\n",
       "0   -3.630 -4.763083\n",
       "1   -4.632 -4.695093\n",
       "2   -3.790 -3.658044\n",
       "3   -2.110 -1.666249\n",
       "4   -0.400 -0.501847\n",
       "..     ...       ...\n",
       "59   1.144  0.568548\n",
       "60  -3.091 -3.521595\n",
       "61  -2.692 -3.095074\n",
       "62   0.350  0.463480\n",
       "63  -0.364 -2.095889\n",
       "\n",
       "[64 rows x 2 columns]"
      ]
     },
     "execution_count": 39,
     "metadata": {},
     "output_type": "execute_result"
    }
   ],
   "source": [
    "import pandas as pd \n",
    "# show the prediction values of one test batch \n",
    "test_batch = next(iter(test_loader))\n",
    "with torch.no_grad():\n",
    "    pred, embed= model(test_batch.x.float(), test_batch.edge_index, test_batch.batch)\n",
    "    df= pd.DataFrame() \n",
    "    df[\"y_real\"]= test_batch.y.tolist()     # convert into a row vector collection  \n",
    "    df[\"y_pred\"] = pred.tolist() \n",
    "df[\"y_real\"]= df[\"y_real\"].apply(lambda row:row[0])\n",
    "df[\"y_pred\"]= df[\"y_pred\"].apply(lambda row:row[0]) # make them into column vectors \n",
    "df"
   ]
  }
 ],
 "metadata": {
  "kernelspec": {
   "display_name": "newEnv",
   "language": "python",
   "name": "python3"
  },
  "language_info": {
   "codemirror_mode": {
    "name": "ipython",
    "version": 3
   },
   "file_extension": ".py",
   "mimetype": "text/x-python",
   "name": "python",
   "nbconvert_exporter": "python",
   "pygments_lexer": "ipython3",
   "version": "3.12.2"
  }
 },
 "nbformat": 4,
 "nbformat_minor": 2
}
