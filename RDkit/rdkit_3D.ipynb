{
 "cells": [
  {
   "cell_type": "markdown",
   "metadata": {},
   "source": [
    "### RDKit's capabilities at handling 3D molecules and 2D representations  "
   ]
  },
  {
   "cell_type": "code",
   "execution_count": 41,
   "metadata": {},
   "outputs": [],
   "source": [
    "from rdkit.Chem import Descriptors\n",
    "from rdkit import Chem \n",
    "from rdkit.Chem import Draw\n",
    "from rdkit.Chem.Draw import IPythonConsole \n",
    "from rdkit.Chem import Descriptors \n",
    "from rdkit.Chem import AllChem \n",
    "from rdkit import DataStructs\n",
    "import numpy as np \n",
    "from rdkit.Chem import MolFromInchi\n",
    "from rdkit.Chem import rdMolDescriptors\n",
    "import pubchempy\n",
    "from rdkit.Chem import AddHs"
   ]
  },
  {
   "cell_type": "markdown",
   "metadata": {},
   "source": [
    "#### Processing Molecule Graphs \n",
    "Given a SMILES String(canonical or noncanonical), RDKit can process the bonding information to get all atoms and the edges between the atoms. This is used at processing molecule datasets to get graph information  \n",
    "  \n",
    "- Index the atoms as vertices in the graph, so we can access and retrieve the different node information   \n",
    "  \n",
    "- The bonds between atoms are represented as edges "
   ]
  },
  {
   "cell_type": "code",
   "execution_count": 21,
   "metadata": {},
   "outputs": [
    {
     "name": "stdout",
     "output_type": "stream",
     "text": [
      "Atom:0 | Symbol:C | H Bonds:1\n",
      "Atom:1 | Symbol:C | H Bonds:1\n",
      "Atom:2 | Symbol:C | H Bonds:1\n",
      "Atom:3 | Symbol:C | H Bonds:1\n",
      "Atom:4 | Symbol:C | H Bonds:1\n",
      "Atom:5 | Symbol:C | H Bonds:1\n"
     ]
    }
   ],
   "source": [
    "# RDKit automatially assigns the index to each atom \n",
    "mol= Chem.MolFromSmiles(\"c1ccccc1\") # benzene C6H6 \n",
    "for atom in mol.GetAtoms(): \n",
    "    print(f\"Atom:{atom.GetIdx()} | Symbol:{atom.GetSymbol()} | H Bonds:{atom.GetTotalNumHs()}\")"
   ]
  },
  {
   "cell_type": "code",
   "execution_count": null,
   "metadata": {},
   "outputs": [
    {
     "name": "stdout",
     "output_type": "stream",
     "text": [
      "0 C - 1 C\n",
      "1 C - 2 C\n",
      "2 C - 3 C\n",
      "3 C - 4 C\n",
      "4 C - 5 C\n",
      "5 C - 0 C\n"
     ]
    },
    {
     "data": {
      "image/png": "[encoded data removed]",
      "text/plain": [
       "<rdkit.Chem.rdchem.Mol at 0x12fbd5460>"
      ]
     },
     "execution_count": 30,
     "metadata": {},
     "output_type": "execute_result"
    }
   ],
   "source": [
    "# print out the edges of each vertex \n",
    "for bond in mol.GetBonds():\n",
    "    print(bond.GetBeginAtomIdx(), mol.GetAtomWithIdx(bond.GetBeginAtomIdx()).GetSymbol(), \"-\", bond.GetEndAtomIdx(), mol.GetAtomWithIdx(bond.GetEndAtomIdx()).GetSymbol())\n",
    "mol "
   ]
  },
  {
   "cell_type": "code",
   "execution_count": 49,
   "metadata": {},
   "outputs": [
    {
     "name": "stdout",
     "output_type": "stream",
     "text": [
      "Atom:0 | Symbol:C\n",
      "Atom:1 | Symbol:C\n",
      "Atom:2 | Symbol:C\n",
      "Atom:3 | Symbol:C\n",
      "Atom:4 | Symbol:N\n",
      "Atom:5 | Symbol:C\n",
      "Atom:6 | Symbol:C\n",
      "Atom:7 | Symbol:N\n",
      "Atom:8 | Symbol:C\n",
      "Atom:9 | Symbol:C\n",
      "Atom:10 | Symbol:C\n",
      "Atom:11 | Symbol:N\n",
      "Atom:12 | Symbol:N\n",
      "Atom:13 | Symbol:C\n",
      "Atom:14 | Symbol:N\n",
      "Atom:15 | Symbol:C\n",
      "Atom:16 | Symbol:C\n",
      "Atom:17 | Symbol:C\n",
      "Atom:18 | Symbol:C\n",
      "Atom:19 | Symbol:C\n",
      "Atom:20 | Symbol:C\n"
     ]
    }
   ],
   "source": [
    "# more complex examples\n",
    "mol= Chem.MolFromSmiles(\"C[C@@H]1CC(Nc2cncc(-c3nncn3C)c2)C[C@@H](C)C1\") \n",
    "for atom in mol.GetAtoms(): \n",
    "    print(f\"Atom:{atom.GetIdx()} | Symbol:{atom.GetSymbol()}\")"
   ]
  },
  {
   "cell_type": "code",
   "execution_count": null,
   "metadata": {},
   "outputs": [
    {
     "name": "stdout",
     "output_type": "stream",
     "text": [
      "0 C - 1 C\n",
      "1 C - 2 C\n",
      "2 C - 3 C\n",
      "3 C - 4 N\n",
      "4 N - 5 C\n",
      "5 C - 6 C\n",
      "6 C - 7 N\n",
      "7 N - 8 C\n",
      "8 C - 9 C\n",
      "9 C - 10 C\n",
      "10 C - 11 N\n",
      "11 N - 12 N\n",
      "12 N - 13 C\n",
      "13 C - 14 N\n",
      "14 N - 15 C\n",
      "9 C - 16 C\n",
      "3 C - 17 C\n",
      "17 C - 18 C\n",
      "18 C - 19 C\n",
      "18 C - 20 C\n",
      "20 C - 1 C\n",
      "16 C - 5 C\n",
      "14 N - 10 C\n"
     ]
    },
    {
     "data": {
      "image/png": "[encoded data removed]",
      "text/plain": [
       "<rdkit.Chem.rdchem.Mol at 0x13f9647b0>"
      ]
     },
     "execution_count": 38,
     "metadata": {},
     "output_type": "execute_result"
    }
   ],
   "source": [
    "# if an atom has more than 1 bonds, this also shows. \n",
    "for bond in mol.GetBonds(): \n",
    "    print(bond.GetBeginAtomIdx(), mol.GetAtomWithIdx(bond.GetBeginAtomIdx()).GetSymbol(), \"-\", bond.GetEndAtomIdx(), mol.GetAtomWithIdx(bond.GetEndAtomIdx()).GetSymbol())\n",
    "mol "
   ]
  },
  {
   "cell_type": "markdown",
   "metadata": {},
   "source": [
    "#### Converting into graph form \n",
    "- With the atom indices and edges, RDKit is used to construct vertices and edge_index tables for datasets where Graph Neural Networks like Graph Convolution Network can be trained on (i.e. do convolution on). "
   ]
  },
  {
   "cell_type": "markdown",
   "metadata": {},
   "source": [
    "### Incomplete Graph Representations "
   ]
  },
  {
   "cell_type": "markdown",
   "metadata": {},
   "source": [
    "- As non-isomeric SMILES strings don't explicitly show hydrogen bonds, the graph representations of a molecule also **does not include hydrogen bonds**, so we will not have hydrogen atoms as vertices and the edges from vertices connecting to hydrogen atoms. \n",
    "  - Datasets built using PyTorch Geometric do not contain H bonds either \n",
    "  \n",
    "- Because of how RDKit retrieves graph information, it needs SMILES strings input to make a molecule to turn into a graph, so the **same limitations on SMILES strings carry over to graphs** "
   ]
  },
  {
   "cell_type": "markdown",
   "metadata": {},
   "source": [
    "### Adding Hydrogen Bonding Information \n",
    "- Chem.AddHs explicitly show the hydrogen atoms and hydrogen bondings as atoms and edges "
   ]
  },
  {
   "cell_type": "code",
   "execution_count": 53,
   "metadata": {},
   "outputs": [
    {
     "name": "stdout",
     "output_type": "stream",
     "text": [
      "H added: [H]c1nc([H])c(N([H])C2([H])C([H])([H])[C@@]([H])(C([H])([H])[H])C([H])([H])[C@]([H])(C([H])([H])[H])C2([H])[H])c([H])c1-c1nnc([H])n1C([H])([H])[H]\n",
      "Original: C[C@@H]1CC(Nc2cncc(-c3nncn3C)c2)C[C@@H](C)C1\n"
     ]
    },
    {
     "data": {
      "image/png": "[encoded data removed]",
      "text/plain": [
       "<rdkit.Chem.rdchem.Mol at 0x13f99b840>"
      ]
     },
     "execution_count": 53,
     "metadata": {},
     "output_type": "execute_result"
    }
   ],
   "source": [
    "mol= AddHs(mol)\n",
    "smiles= Chem.MolToSmiles(mol)\n",
    "print(\"H added:\",smiles)\n",
    "smiles= Chem.MolToSmiles(Chem.MolFromSmiles(\"C[C@@H]1CC(Nc2cncc(-c3nncn3C)c2)C[C@@H](C)C1\"))\n",
    "print(\"Original:\",smiles)\n",
    "mol "
   ]
  },
  {
   "cell_type": "code",
   "execution_count": 55,
   "metadata": {},
   "outputs": [
    {
     "name": "stdout",
     "output_type": "stream",
     "text": [
      "44\n",
      "0 C - 1 C\n",
      "1 C - 2 C\n",
      "2 C - 3 C\n",
      "3 C - 4 N\n",
      "4 N - 5 C\n",
      "5 C - 6 C\n",
      "6 C - 7 N\n",
      "7 N - 8 C\n",
      "8 C - 9 C\n",
      "9 C - 10 C\n",
      "10 C - 11 N\n",
      "11 N - 12 N\n",
      "12 N - 13 C\n",
      "13 C - 14 N\n",
      "14 N - 15 C\n",
      "9 C - 16 C\n",
      "3 C - 17 C\n",
      "17 C - 18 C\n",
      "18 C - 19 C\n",
      "18 C - 20 C\n",
      "20 C - 1 C\n",
      "16 C - 5 C\n",
      "14 N - 10 C\n",
      "0 C - 21 H\n",
      "0 C - 22 H\n",
      "0 C - 23 H\n",
      "1 C - 24 H\n",
      "2 C - 25 H\n",
      "2 C - 26 H\n",
      "3 C - 27 H\n",
      "4 N - 28 H\n",
      "6 C - 29 H\n",
      "8 C - 30 H\n",
      "13 C - 31 H\n",
      "15 C - 32 H\n",
      "15 C - 33 H\n",
      "15 C - 34 H\n",
      "16 C - 35 H\n",
      "17 C - 36 H\n",
      "17 C - 37 H\n",
      "18 C - 38 H\n",
      "19 C - 39 H\n",
      "19 C - 40 H\n",
      "19 C - 41 H\n",
      "20 C - 42 H\n",
      "20 C - 43 H\n"
     ]
    }
   ],
   "source": [
    "# updated # of atoms \n",
    "print(mol.GetNumAtoms())    # generated 23 extra atoms (Hs) \n",
    "for bond in mol.GetBonds(): \n",
    "    print(bond.GetBeginAtomIdx(), mol.GetAtomWithIdx(bond.GetBeginAtomIdx()).GetSymbol(), \"-\", bond.GetEndAtomIdx(), mol.GetAtomWithIdx(bond.GetEndAtomIdx()).GetSymbol())"
   ]
  }
 ],
 "metadata": {
  "kernelspec": {
   "display_name": "newEnv",
   "language": "python",
   "name": "python3"
  },
  "language_info": {
   "codemirror_mode": {
    "name": "ipython",
    "version": 3
   },
   "file_extension": ".py",
   "mimetype": "text/x-python",
   "name": "python",
   "nbconvert_exporter": "python",
   "pygments_lexer": "ipython3",
   "version": "3.12.2"
  }
 },
 "nbformat": 4,
 "nbformat_minor": 2
}
