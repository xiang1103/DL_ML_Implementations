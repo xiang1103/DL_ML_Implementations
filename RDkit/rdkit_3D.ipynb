{
 "cells": [
  {
   "cell_type": "markdown",
   "metadata": {},
   "source": [
    "### RDKit's capabilities at handling 3D molecules "
   ]
  },
  {
   "cell_type": "code",
   "execution_count": 1,
   "metadata": {},
   "outputs": [],
   "source": [
    "from rdkit.Chem import Descriptors\n",
    "from rdkit import Chem \n",
    "from rdkit.Chem import Draw\n",
    "from rdkit.Chem.Draw import IPythonConsole \n",
    "from rdkit.Chem import Descriptors \n",
    "from rdkit.Chem import AllChem \n",
    "from rdkit import DataStructs\n",
    "import numpy as np \n",
    "from rdkit.Chem import MolFromInchi\n",
    "from rdkit.Chem import rdMolDescriptors\n",
    "import pubchempy"
   ]
  },
  {
   "cell_type": "markdown",
   "metadata": {},
   "source": [
    "#### Processing Molecule Graphs \n",
    "Given a SMILES String(canonical or noncanonical), RDKit can process the bonding information to get all atoms and the edges between the atoms. This is used at processing molecule datasets to get graph information "
   ]
  },
  {
   "cell_type": "code",
   "execution_count": null,
   "metadata": {},
   "outputs": [
    {
     "name": "stdout",
     "output_type": "stream",
     "text": [
      "Atom:0 | Symbol:C\n",
      "Atom:1 | Symbol:C\n",
      "Atom:2 | Symbol:C\n",
      "Atom:3 | Symbol:C\n",
      "Atom:4 | Symbol:C\n",
      "Atom:5 | Symbol:C\n"
     ]
    }
   ],
   "source": [
    "# RDKit automatially assigns the index to each atom \n",
    "mol= Chem.MolFromSmiles(\"c1ccccc1\") # benzene C6H6 \n",
    "for atom in mol.GetAtoms(): \n",
    "    print(f\"Atom:{atom.GetIdx()} | Symbol:{atom.GetSymbol()}\")"
   ]
  },
  {
   "cell_type": "code",
   "execution_count": null,
   "metadata": {},
   "outputs": [
    {
     "data": {
      "text/plain": [
       "6"
      ]
     },
     "execution_count": 5,
     "metadata": {},
     "output_type": "execute_result"
    }
   ],
   "source": [
    "print(mol.GetNumAtoms())    # "
   ]
  },
  {
   "cell_type": "markdown",
   "metadata": {},
   "source": [
    "### Incomplete Graph Representations "
   ]
  }
 ],
 "metadata": {
  "kernelspec": {
   "display_name": "newEnv",
   "language": "python",
   "name": "python3"
  },
  "language_info": {
   "codemirror_mode": {
    "name": "ipython",
    "version": 3
   },
   "file_extension": ".py",
   "mimetype": "text/x-python",
   "name": "python",
   "nbconvert_exporter": "python",
   "pygments_lexer": "ipython3",
   "version": "3.12.2"
  }
 },
 "nbformat": 4,
 "nbformat_minor": 2
}
