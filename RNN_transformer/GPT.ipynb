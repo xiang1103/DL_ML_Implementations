{
 "cells": [
  {
   "cell_type": "markdown",
   "metadata": {},
   "source": [
    "### Dummy GPT Model \n",
    "A GPT arhitecture contains embedding + positional encoding --> normalization --> some other operations in between --> transformer (scaled dot product attention in multi head attention + masked attention) "
   ]
  },
  {
   "cell_type": "code",
   "execution_count": 3,
   "metadata": {},
   "outputs": [],
   "source": [
    "import torch \n",
    "import torch.nn as nn "
   ]
  },
  {
   "cell_type": "markdown",
   "metadata": {},
   "source": [
    "### Backbone Terms: \n",
    "- vocabulary size: total # of vocabularies in the training dataset (depends on tokenization, we may add other <> tokens as well). \n",
    "- context_length: max number of input tokens taken at each time \n",
    "- embed_dim: the dimension of the word embedding at encoding stage (more dim can improve words learning better)\n",
    "- n_layers: number of hidden layers in the transformer block \n",
    "- n_heads: # of attention heads "
   ]
  },
  {
   "cell_type": "code",
   "execution_count": 4,
   "metadata": {},
   "outputs": [],
   "source": [
    "config= {\n",
    "    \"vocab_size\" : 50257, \n",
    "    \"context_length\" : 1024, \n",
    "    \"embed_dim\" : 768,\n",
    "    \"n_heads\" : 12, \n",
    "    \"n_layers\" : 12, \n",
    "    \"drop_rate\" : 0.1  # each node during the hidden layer has 10% being dropped. Avoids overfitting \n",
    "}"
   ]
  },
  {
   "cell_type": "code",
   "execution_count": null,
   "metadata": {},
   "outputs": [],
   "source": [
    "class GPTModel(nn.Module):\n",
    "    def __init__(self, cfg): \n",
    "        super().__init__() # init torch.nn.Module class \n",
    "        self.embed= nn.Embedding(cfg[\"vocab_size\"], cfg[\"embed_dim\"])\n",
    "        self.pos_embed= nn.Embedding(cfg[\"context_length\"], cfg[\"embed_dim\"])   # add the positional encoding. \n",
    "        # input will be the same as the context length (# of tokens processed each time, and embed them at a hidden dimension)\n",
    "\n",
    "        self.drop_embed= nn.Dropout(cfg[\"drop_rate\"])   # drop out function \n",
    "        #TODO: self.transformer = nn.Sequential () # transformer block \n",
    "        #TODO: self.final_norm= LayerNorm (cfg[\"embed_dim\"])   # layer normalization \n",
    "        self.out_head= nn.Linear(cfg[\"embed_dim\"], cfg[\"vocab_size\"], bias=False)   # final FC layer back to vocabulary\n",
    "\n",
    "    # return the non-softmax output of \n",
    "    def forward(self, in_idx):\n",
    "        batch_size, seq_len= in_idx.shape # vector would be importe as the size batch x vocabulary size/ length of the setence\n",
    "        text_embed= self.embed(in_idx)\n",
    "        pos_embed= self.pos_embed(torch.arange(seq_len, device= in_idx.device)) # non-repeating positional encoding (copies the entire weight matrix of the token_embed)\n",
    "        \n",
    "        # step 1: add embedding and positional encoding \n",
    "        x= pos_embed + text_embed \n",
    "        # step 2: apply drop out \n",
    "        x= self.drop_embed(x)\n",
    "        # step 3 :go through the transformer \n",
    "        x= self.transformer(x) \n",
    "        # step 4: more layer normalization and then FC to output \n",
    "        x= self.final_norm(x) \n",
    "        logits= self.out_head(x) \n",
    "        return logits \n",
    "        \n",
    "        \n",
    "\n"
   ]
  },
  {
   "cell_type": "markdown",
   "metadata": {},
   "source": [
    "#### tokenizing the input as example \n",
    "- Tokenize input with pre built tokenzier \n",
    "    - tokenzier will break down the input into tokens then make them into corresponding one-hot vector representations \n",
    "- Add to batch to feed into GPT model (the batch will be out in_idx)"
   ]
  },
  {
   "cell_type": "code",
   "execution_count": null,
   "metadata": {},
   "outputs": [
    {
     "name": "stdout",
     "output_type": "stream",
     "text": [
      "torch.Size([2, 4])\n",
      "tensor([[6109, 3626, 6100,  345],\n",
      "        [6109, 1110, 6622,  257]])\n"
     ]
    }
   ],
   "source": [
    "import tiktoken \n",
    "tokenizer = tiktoken.get_encoding(\"gpt2\")\n",
    "batch = []  # append all text \n",
    "txt1 = \"Every effort moves you\"\n",
    "txt2 = \"Every day holds a\"\n",
    "batch.append(torch.tensor(tokenizer.encode(txt1)))\n",
    "batch.append(torch.tensor(tokenizer.encode(txt2)))\n",
    "batch = torch.stack(batch, dim=0)\n",
    "print(batch)"
   ]
  }
 ],
 "metadata": {
  "kernelspec": {
   "display_name": "newEnv",
   "language": "python",
   "name": "python3"
  },
  "language_info": {
   "codemirror_mode": {
    "name": "ipython",
    "version": 3
   },
   "file_extension": ".py",
   "mimetype": "text/x-python",
   "name": "python",
   "nbconvert_exporter": "python",
   "pygments_lexer": "ipython3",
   "version": "3.12.2"
  }
 },
 "nbformat": 4,
 "nbformat_minor": 2
}
