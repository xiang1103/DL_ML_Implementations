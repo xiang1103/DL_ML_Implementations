{
 "cells": [
  {
   "cell_type": "markdown",
   "metadata": {},
   "source": [
    "#### Convolutional Variational Autoencoder on generating Face imagses \n",
    "\n",
    "Use convolutional VAE because we are handling images "
   ]
  },
  {
   "cell_type": "code",
   "execution_count": 1,
   "metadata": {},
   "outputs": [],
   "source": [
    "import torch \n",
    "import torch.nn as nn \n",
    "import torchvision \n",
    "import time \n",
    "import matplotlib.pyplot as plt "
   ]
  },
  {
   "cell_type": "markdown",
   "metadata": {},
   "source": [
    "Helper function imports (not all might be used)"
   ]
  },
  {
   "cell_type": "code",
   "execution_count": 2,
   "metadata": {},
   "outputs": [],
   "source": [
    "from helper_data import get_dataloaders_celeba\n",
    "from helper_data import UnNormalize\n",
    "from helper_train import train_vae_v1\n",
    "from helper_utils import set_deterministic, set_all_seeds\n",
    "from helper_plotting import plot_accuracy, plot_training_loss\n",
    "from helper_plotting import plot_generated_images\n",
    "from helper_plotting import plot_latent_space_with_labels\n",
    "from helper_plotting import plot_images_sampled_from_vae"
   ]
  },
  {
   "cell_type": "markdown",
   "metadata": {},
   "source": [
    "Imports for dataset"
   ]
  },
  {
   "cell_type": "code",
   "execution_count": 3,
   "metadata": {},
   "outputs": [],
   "source": [
    "from torchvision import datasets \n",
    "from torch.utils.data import DataLoader "
   ]
  },
  {
   "cell_type": "markdown",
   "metadata": {},
   "source": [
    "Settigs for the experiment/model  \n",
    "- device \n",
    "- random_seed set up \n",
    "- Learning Rate \n",
    "- num_epochs \n",
    "- batch size "
   ]
  },
  {
   "cell_type": "code",
   "execution_count": 4,
   "metadata": {},
   "outputs": [
    {
     "name": "stdout",
     "output_type": "stream",
     "text": [
      "cuda\n"
     ]
    }
   ],
   "source": [
    "DEVICE= torch.device(\"cuda\" if torch.cuda.is_available() else \"cpu\")\n",
    "print(DEVICE) \n",
    "\n",
    "RANDOM_SEED = 123 \n",
    "LEARNING_RATE= 0.0005 \n",
    "NUM_EPOCHS= 50 \n",
    "BATCH_SIZE= 256 \n"
   ]
  },
  {
   "cell_type": "code",
   "execution_count": 5,
   "metadata": {},
   "outputs": [],
   "source": [
    "set_deterministic   # configure PyTorch to reproduce same weights at every iteration. Set CuDNN to be deterministic \n",
    "set_all_seeds(123)   # set deterministic to all random in pytorch and Numpy"
   ]
  },
  {
   "cell_type": "markdown",
   "metadata": {},
   "source": [
    "##### Load the dataset"
   ]
  },
  {
   "cell_type": "code",
   "execution_count": 6,
   "metadata": {},
   "outputs": [],
   "source": [
    "def get_data_celeba(batch_size, num_workers=0, train_transform= None, test_transform=None, download=True):\n",
    "    \"\"\"Labels (ground turth) are 40-dim vectors representing\n",
    "    00 - 5_o_Clock_Shadow\n",
    "    01 - Arched_Eyebrows\n",
    "    02 - Attractive \n",
    "    03 - Bags_Under_Eyes\n",
    "    04 - Bald\n",
    "    05 - Bangs\n",
    "    06 - Big_Lips\n",
    "    07 - Big_Nose\n",
    "    08 - Black_Hair\n",
    "    09 - Blond_Hair\n",
    "    10 - Blurry \n",
    "    11 - Brown_Hair \n",
    "    12 - Bushy_Eyebrows \n",
    "    13 - Chubby \n",
    "    14 - Double_Chin \n",
    "    15 - Eyeglasses \n",
    "    16 - Goatee \n",
    "    17 - Gray_Hair \n",
    "    18 - Heavy_Makeup \n",
    "    19 - High_Cheekbones \n",
    "    20 - Male \n",
    "    21 - Mouth_Slightly_Open \n",
    "    22 - Mustache \n",
    "    23 - Narrow_Eyes \n",
    "    24 - No_Beard \n",
    "    25 - Oval_Face \n",
    "    26 - Pale_Skin \n",
    "    27 - Pointy_Nose \n",
    "    28 - Receding_Hairline \n",
    "    29 - Rosy_Cheeks \n",
    "    30 - Sideburns \n",
    "    31 - Smiling \n",
    "    32 - Straight_Hair \n",
    "    33 - Wavy_Hair \n",
    "    34 - Wearing_Earrings \n",
    "    35 - Wearing_Hat \n",
    "    36 - Wearing_Lipstick \n",
    "    37 - Wearing_Necklace \n",
    "    38 - Wearing_Necktie \n",
    "    39 - Young         \n",
    "    \"\"\"\n",
    "\n",
    "    # default transformation \n",
    "    if train_transform is None: \n",
    "        train_transform= torchvision.transforms.ToTensor() \n",
    "    if test_transform is None: \n",
    "        test_transform = torchvision.transforms.ToTensor() \n",
    "\n",
    "    # download CelebA dataset for training, split = \"train\" splits the data by train, download into a file called \"data\" in root directory (where you store this file)\n",
    "    train_dataset= datasets.CelebA(root= \"data\", split= \"train\", transform=train_transform,download=download)\n",
    "    valid_dataset= datasets.CelebA(root=\"data\", split= \"valid\", transform= test_transform)\n",
    "    test_dataset= datasets.CelebA(root= \"data\", split= \"test\", transform=test_transform)\n",
    "\n",
    "    # load the dataset intoo DataLoader \n",
    "    train_loader= DataLoader(dataset =train_dataset, batch_size= batch_size, num_workers=num_workers,shuffle=True)\n",
    "    valid_loader= DataLoader(dataset=valid_dataset, batch_size= batch_size, num_workers=num_workers, shuffle=False)\n",
    "    test_loader= DataLoader(dataset=test_dataset, batch_size= batch_size, num_workers=num_workers, shuffle=False)\n",
    "\n",
    "    return train_loader, valid_loader, test_loader"
   ]
  },
  {
   "cell_type": "code",
   "execution_count": 7,
   "metadata": {},
   "outputs": [
    {
     "name": "stdout",
     "output_type": "stream",
     "text": [
      "Files already downloaded and verified\n"
     ]
    }
   ],
   "source": [
    "# transform face images for processing \n",
    "custom_transforms= torchvision.transforms.Compose(\n",
    "    [\n",
    "        torchvision.transforms.CenterCrop((128,128)), # crop the center to 128x128 pixels\n",
    "        torchvision.transforms.ToTensor()   # transform all the image pixels into [0,1]\n",
    "    ]\n",
    ")\n",
    "\n",
    "train_loader, valid_loader, test_loader=get_data_celeba(BATCH_SIZE, num_workers=2, train_transform=custom_transforms,test_transform=custom_transforms)\n"
   ]
  },
  {
   "cell_type": "markdown",
   "metadata": {},
   "source": [
    "Data Dimensions: \n",
    "- Each image is a colored (3 channels) 128 x 128 image.\n",
    "- Batch_size is 256 for dataloaders, and there are 636 total batches in train_loader "
   ]
  },
  {
   "cell_type": "code",
   "execution_count": 8,
   "metadata": {},
   "outputs": [
    {
     "name": "stdout",
     "output_type": "stream",
     "text": [
      "Training Data\n",
      "Image Dimension:  torch.Size([256, 3, 128, 128])\n",
      "Label Dimension:  torch.Size([256, 40])\n",
      "tensor([0, 1, 1, 0, 0, 1, 0, 0, 0, 1, 0, 0, 0, 0, 0, 0, 0, 0, 1, 1, 0, 1, 0, 0,\n",
      "        1, 1, 0, 0, 0, 1, 0, 1, 0, 1, 0, 0, 1, 0, 0, 1])\n",
      "Test Data \n",
      "Image Dimension:  torch.Size([256, 3, 128, 128])\n",
      "Label Dimension:  torch.Size([256, 40])\n",
      "tensor([0, 1, 0, 1, 0, 0, 0, 0, 0, 0, 0, 0, 0, 0, 0, 0, 0, 0, 0, 1, 0, 1, 0, 0,\n",
      "        1, 0, 0, 1, 0, 0, 0, 1, 0, 1, 1, 1, 0, 0, 0, 0])\n",
      "Total Training Batches:  636\n"
     ]
    }
   ],
   "source": [
    "print(\"Training Data\")\n",
    "for image, labels in train_loader:\n",
    "    print(\"Image Dimension: \", image.shape) \n",
    "    print(\"Label Dimension: \", labels.shape) \n",
    "    print(labels[0])    # print a sample label\n",
    "    break \n",
    "\n",
    "print(\"Test Data \")\n",
    "for image, labels in test_loader :\n",
    "    print(\"Image Dimension: \", image.shape)\n",
    "    print(\"Label Dimension: \", labels.shape) \n",
    "    print(labels[0])\n",
    "    break\n",
    "\n",
    "print(\"Total Training Batches: \",len(train_loader))"
   ]
  },
  {
   "cell_type": "markdown",
   "metadata": {},
   "source": [
    "#### Model\n",
    "- Variational autoencoder where encoder is conv nets with non-linear activation functions - Samples mean and variance vector to finish encoding in the latent sapce of 200 dimensios\n",
    "- Decoder uses transpose Conv net to go back to the original dimension \n"
   ]
  },
  {
   "cell_type": "code",
   "execution_count": 9,
   "metadata": {},
   "outputs": [],
   "source": [
    "class Reshape(nn.Module):\n",
    "    def __init__(self, *args):\n",
    "        super().__init__()\n",
    "        self.shape= args\n",
    "    def forward(self, x):\n",
    "        return x.view(self.shape)\n",
    "    \n",
    "class Trim(nn.Module):\n",
    "    def __init__(self):\n",
    "        super().__init__()\n",
    "    def forward(self, x): \n",
    "        return x[:,:,:128,:128] \n",
    "\n",
    "class VAE(nn.Module):\n",
    "    def __init__(self):\n",
    "        super().__init__() \n",
    "        # input dimension is batch x 3 x 128 x 128 \n",
    "        self.encoder=nn.Sequential(\n",
    "            nn.Conv2d(3, 32, stride= 2, kernel_size= 3, padding=1),  # batch x 32 x 64 x 64 \n",
    "            nn.LeakyReLU(0.1, inplace=False),    # element wise LeakyReLU \n",
    "            \n",
    "            nn.Conv2d(32, 64, stride=2, kernel_size=3, padding=1), # batch x 64 x 32 x 32\n",
    "            nn.LeakyReLU(0.1, inplace=False), \n",
    "            \n",
    "            nn.Conv2d(64,64,stride=2, kernel_size= 3, padding=1),   # batch x 64 x 16 x 16\n",
    "            nn.LeakyReLU(0.1, inplace=False),\n",
    "\n",
    "            nn.Conv2d(64,64, stride=2, kernel_size=3, padding=1),   # batch x 64 x 8 x 8\n",
    "            nn.LeakyReLU(0.1),\n",
    "\n",
    "            # flatten into a single vector for FC (linear transformation) layer\n",
    "            nn.Flatten()    # batch x 1 x 4096 \n",
    "        )\n",
    "        # sample mean and variance vector \n",
    "        self.z_mean= nn.Linear(4096,200)\n",
    "        self.z_log_var= nn.Linear(4096, 200)\n",
    "\n",
    "        # decoder \n",
    "        self.decoder= nn.Sequential(\n",
    "            # start with 200 dimension latent space \n",
    "            nn.Linear(200,4096), \n",
    "            # reshape the vector into batch x 64 x 8 x 8 \n",
    "            Reshape(-1, 64,8,8),\n",
    "            \n",
    "            nn.ConvTranspose2d(64,64,kernel_size=3, stride=2),  # batch x 64 x 17 x 17\n",
    "            nn.LeakyReLU(0.1, inplace =False), \n",
    "            \n",
    "            nn.ConvTranspose2d(64,64, kernel_size=3, stride= 2, padding=1), # batch x 64 x 33 x 33\n",
    "            nn.LeakyReLU(0.1, inplace=False),\n",
    "            \n",
    "            nn.ConvTranspose2d(64, 32, kernel_size=3 ,stride=2, padding=1),  # batch x 32 x 65 x 65 \n",
    "            nn.LeakyReLU(0.1, inplace=False), \n",
    "\n",
    "            nn.ConvTranspose2d(32,3, kernel_size=3, stride=2,padding=1), # batch x 3 x 129 x 128\n",
    "            Trim(),     # cut out the extra pixel to be {batch x 3 x 128 x 128}\n",
    "            # non -linear activation to complete decoder \n",
    "            nn.Sigmoid() \n",
    "        )\n",
    "    # reparameterize the decoded part \n",
    "    def reparameterize(self, z_mu, z_var_log):\n",
    "        eps= torch.randn(z_mu.size(0), z_mu.size(1)).to(DEVICE)\n",
    "        z= z_mu + eps * torch.exp(z_var_log/2.) \n",
    "        return z \n",
    "\n",
    "    def forward(self, x):\n",
    "        x= self.encoder(x) \n",
    "        z_mean, z_var_log= self.z_mean(x), self.z_log_var(x) \n",
    "        encoded= self.reparameterize(z_mean, z_var_log)\n",
    "        decoded= self.decoder(encoded)\n",
    "        return encoded, z_mean, z_var_log, decoded"
   ]
  },
  {
   "cell_type": "code",
   "execution_count": 10,
   "metadata": {},
   "outputs": [],
   "source": [
    "set_all_seeds(RANDOM_SEED)\n",
    "model= VAE() \n",
    "model.to(DEVICE)\n",
    "\n",
    "optimizer= torch.optim.Adam(model.parameters(), lr= LEARNING_RATE)"
   ]
  },
  {
   "cell_type": "code",
   "execution_count": null,
   "metadata": {},
   "outputs": [],
   "source": [
    "log_dict = train_vae_v1(num_epochs=NUM_EPOCHS, model=model, \n",
    "                        optimizer=optimizer, device=DEVICE, \n",
    "                        train_loader=train_loader,\n",
    "                        skip_epoch_stats=True,\n",
    "                        logging_interval=50)"
   ]
  }
 ],
 "metadata": {
  "kernelspec": {
   "display_name": "newEnv",
   "language": "python",
   "name": "python3"
  },
  "language_info": {
   "codemirror_mode": {
    "name": "ipython",
    "version": 3
   },
   "file_extension": ".py",
   "mimetype": "text/x-python",
   "name": "python",
   "nbconvert_exporter": "python",
   "pygments_lexer": "ipython3",
   "version": "3.12.2"
  }
 },
 "nbformat": 4,
 "nbformat_minor": 2
}
