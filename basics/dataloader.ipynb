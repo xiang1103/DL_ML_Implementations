{
 "cells": [
  {
   "cell_type": "markdown",
   "metadata": {},
   "source": [
    "### Using dataloader to load wine.csv data"
   ]
  },
  {
   "cell_type": "code",
   "execution_count": 2,
   "metadata": {},
   "outputs": [],
   "source": [
    "import torch \n",
    "import torchvision \n",
    "from torch.utils.data import Dataset, DataLoader\n",
    "import numpy as np\n",
    "import math "
   ]
  },
  {
   "cell_type": "markdown",
   "metadata": {},
   "source": [
    "Data used for this section is wine.csv. Dataset is formatted as follows: \n",
    "- label x different attributes "
   ]
  },
  {
   "cell_type": "code",
   "execution_count": 3,
   "metadata": {},
   "outputs": [],
   "source": [
    "class WineData(Dataset):\n",
    "    def __init__(self): #no additional arguments\n",
    "        xy= np.loadtxt(\"wine.csv\", delimiter=\",\", dtype= np.float32, skiprows=1)    # data is splitted by comma\n",
    "        self.x=torch.from_numpy(xy[:,1:])   # all the features, skip the first column because it's labels \n",
    "        self.y= torch.from_numpy(xy[:,[0]])   # grab all the labels \n",
    "        self.n_sample= xy.shape[0]  #first dimension is the sample size \n",
    "\n",
    "    def __getitem__(self, index):\n",
    "        return self.x[index], self.y[index]     #return tuple\n",
    "    def __len__(self):\n",
    "        return self.n_sample    # return the length of dataset"
   ]
  },
  {
   "cell_type": "code",
   "execution_count": 4,
   "metadata": {},
   "outputs": [
    {
     "name": "stdout",
     "output_type": "stream",
     "text": [
      "tensor([1.4230e+01, 1.7100e+00, 2.4300e+00, 1.5600e+01, 1.2700e+02, 2.8000e+00,\n",
      "        3.0600e+00, 2.8000e-01, 2.2900e+00, 5.6400e+00, 1.0400e+00, 3.9200e+00,\n",
      "        1.0650e+03]) tensor([1.])\n",
      "torch.Size([13])\n",
      "torch.Size([1])\n"
     ]
    }
   ],
   "source": [
    "dataset= WineData()\n",
    "first_data= dataset[0]  # this calls __getitem__ function and returns a tuple/2D of features and label\n",
    "features, labels = first_data\n",
    "print(features,labels)  #stack up n_sample with the corresponding entries \n",
    "print(features.shape)\n",
    "print(labels.shape)"
   ]
  },
  {
   "cell_type": "markdown",
   "metadata": {},
   "source": [
    "#### Dataset Transforms\n",
    "Some dataset will not be numerical such as the MNIST dataset containing images, so transform can convert these data into pytorch tensors "
   ]
  },
  {
   "cell_type": "code",
   "execution_count": 11,
   "metadata": {},
   "outputs": [],
   "source": [
    "class WineData(Dataset):\n",
    "    def __init__(self, transform=None): # add transformation, default is None\n",
    "        xy= np.loadtxt(\"wine.csv\", delimiter=\",\", dtype= np.float32, skiprows=1)    \n",
    "        self.x=xy[:,1:]\n",
    "        self.y= xy[:,[0]]\n",
    "        self.n_sample= xy.shape[0]  \n",
    "\n",
    "        self.transform= transform   \n",
    "\n",
    "    def __getitem__(self, index):\n",
    "        sample= self.x[index], self.y[index]   \n",
    "        if self.transform:\n",
    "            sample= self.transform(sample)  # apply transform on the data\n",
    "        return sample \n",
    "    def __len__(self):\n",
    "        return self.n_sample"
   ]
  },
  {
   "cell_type": "code",
   "execution_count": 9,
   "metadata": {},
   "outputs": [],
   "source": [
    "class ToTensor:   # custome transform class that takes the wine data and transform to torch tensor\n",
    "    def __call__(self, sample):     \n",
    "        inputs, labels = sample     # sample is the data\n",
    "        return torch.from_numpy(inputs), torch.from_numpy(labels)"
   ]
  },
  {
   "cell_type": "code",
   "execution_count": 14,
   "metadata": {},
   "outputs": [
    {
     "name": "stdout",
     "output_type": "stream",
     "text": [
      "(tensor([1.4230e+01, 1.7100e+00, 2.4300e+00, 1.5600e+01, 1.2700e+02, 2.8000e+00,\n",
      "        3.0600e+00, 2.8000e-01, 2.2900e+00, 5.6400e+00, 1.0400e+00, 3.9200e+00,\n",
      "        1.0650e+03]), tensor([1.]))\n",
      "<class 'torch.Tensor'>\n"
     ]
    }
   ],
   "source": [
    "dataset= WineData(transform=ToTensor()) #pass in transform class as variable\n",
    "first_data= dataset[0]  # grab data from __getitem__ function\n",
    "print(first_data) \n",
    "print(type(first_data[0]))  # converted the data into torch tensor "
   ]
  },
  {
   "cell_type": "code",
   "execution_count": null,
   "metadata": {},
   "outputs": [],
   "source": [
    "composed = torchvision.transforms.Compose([ToTensor()])     # multiple transformation\n",
    "dataset= WineData(transform=composed)"
   ]
  }
 ],
 "metadata": {
  "kernelspec": {
   "display_name": "Python 3",
   "language": "python",
   "name": "python3"
  },
  "language_info": {
   "codemirror_mode": {
    "name": "ipython",
    "version": 3
   },
   "file_extension": ".py",
   "mimetype": "text/x-python",
   "name": "python",
   "nbconvert_exporter": "python",
   "pygments_lexer": "ipython3",
   "version": "3.12.0"
  }
 },
 "nbformat": 4,
 "nbformat_minor": 2
}
