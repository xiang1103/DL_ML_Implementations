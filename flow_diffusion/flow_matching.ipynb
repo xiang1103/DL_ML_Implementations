{
 "cells": [
  {
   "cell_type": "markdown",
   "metadata": {},
   "source": [
    "### Introduction to Flow Matching \n",
    "Flow matching is a technique of training Diffusion Models (diffusion models only have score matching or flow matching these two methods).  \n",
    "  \n",
    "The goal of flow matching is that if we have a training set which models an intractable probability distribution $P_{data}$ (given some x, the y is the training example), how do we let the model learn the probability distribution (this is the motivation behind every generative model). Diffusion models accomplish this by starting from an initial distribution $P_{init}$, which is a lot simpler and we know (i.e. a Gaussian Distribution). How do we go from the initial distribution to the data distribution?  \n",
    "  \n",
    "This led to the use of Stochastic Differential Equations (SDE) and Ordinary Differential Equations (ODE) --> Mathematical formulation of this problem. We can imagine starting with initial noise from $P_{init}$ which can be a random vector generated from a Gaussian or other simple distributions (the choice of this distribution matters for calculations). And the process of going to the true data distribution as the vector changing and going to different directions and eventually settling at the correct positions. This is exactly the process of Differential Equations.  \n",
    "  \n",
    "The initial noise can be seen as the initial condition of a DE $X_{0} \\sim P_{init}$, deciding where to go is determined by Vector Field $u_t$, and the trajectory which is a solution to the Differential Equation, which is an instance of probability distribution modeled by the model.  \n",
    "\n",
    "To go from noise to data distribution, we have to define how vectors move or how do they decide where to move. This process is $dX_t$. If we figure out how to model $dXt$ which is often intractable, we figure out how to arrive at $P_{data}$. Modeling $dXt$ is the diffusion process. \n",
    "  \n",
    "The diffusion process is backed by SDE and ODE, and this is where score matching and flow matching originated from. In ODE, $dX_t = u_t(X_t)dt$, and in SDE, this form is added with random noise(i.e. from Brownian Motion) $dX_t= u_t(X_t) dt + \\sigma_t dW_t$. We can see that SDE's $dX_t$ contains ODE's, this also draws parallel to the similar form of score matching with flow matching.   \n",
    "  \n",
    "Next step is how to calculate the vector field of ODE and SDE. "
   ]
  }
 ],
 "metadata": {
  "kernelspec": {
   "display_name": "newEnv",
   "language": "python",
   "name": "python3"
  },
  "language_info": {
   "name": "python",
   "version": "3.12.2"
  }
 },
 "nbformat": 4,
 "nbformat_minor": 2
}
