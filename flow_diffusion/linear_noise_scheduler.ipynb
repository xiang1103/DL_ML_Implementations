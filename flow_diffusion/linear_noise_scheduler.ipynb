{
 "cells": [
  {
   "cell_type": "markdown",
   "metadata": {},
   "source": [
    "## Noise scheduler\n",
    "The noise scheduler will sample $\\beta$ and generate $\\alpha$ correspondingly from all the time steps  \n",
    " \n",
    "Original noise scheduler used in the DDPM paper. See more mathematical breakdown in the paper notes repo. "
   ]
  },
  {
   "cell_type": "code",
   "execution_count": null,
   "metadata": {},
   "outputs": [],
   "source": [
    "import torch \n",
    "import numpy as np "
   ]
  },
  {
   "cell_type": "code",
   "execution_count": null,
   "metadata": {},
   "outputs": [],
   "source": [
    "class LinearNoiseScheduler: \n",
    "    def __init__(self, num_timesteps, beta_start, beta_end): \n",
    "        self.num_timesteps= num_timesteps   # parameter: t\n",
    "        self.beta_start= beta_start \n",
    "        self.beta_end= beta_end \n",
    "        # linearly increase \n",
    "        self.betas= torch.linspace(beta_start,beta_end, steps=num_timesteps)    # (1,num_timesteps) \n",
    "\n",
    "        # forward process and backward noise calculations \n",
    "        self.alpha = 1-self.betas   # get each alpha term at t  (1, num_timesteps)\n",
    "\n",
    "        # multiply the cumulative prod across, preserves the shape \n",
    "        self.alpha_prod= torch.cumprod(self.alpha, dim=0)   # calculate \\prod alpha (1,num_timesteps)\n",
    "        self.sqrt_alpha_prod= torch.sqrt(self.alpha_prod)   # sqrt(alpha) --> used to multiply current noise \n",
    "        self.sqrt_one_minus_alpha= torch.sqrt(1- self.sqrt_alpha_prod)  # sqrt(1-alpha)--> used to multiply with sampled noise \n",
    "\n",
    "    # add noise in the forward process \n",
    "    # original: xt vector \n",
    "    # noise: originally sampled noise \n",
    "    def add_noise(self,original, noise,t): \n",
    "        original_shape= original.shape  \n",
    "        batch_size= original_shape[0] \n",
    "        # reshape, assume batch_size is 1 \n",
    "        sqrt_alpha_prod= self.sqrt_alpha_prod[t].reshape(batch_size) \n",
    "        sqrt_one_minus_alpha= self.sqrt_one_minus_alpha[t].reshape(batch_size)\n",
    "        \n",
    "        # reshape to \n",
    "        for _ in range(len(original_shape)-1):\n",
    "            sqrt_alpha_prod=sqrt_alpha_prod.unsqueeze(-1)   # reshape (b,1,1)\n",
    "            sqrt_one_minus_alpha= sqrt_one_minus_alpha.unsqueeze(-1) \n",
    "\n",
    "        return sqrt_alpha_prod*original+ sqrt_one_minus_alpha*noise \n",
    "\n",
    "    # backward process sampling\n",
    "    # #given the current time step t, and vector xt we can use the direct formula to compute what x0 is \n",
    "    # noise_pred is the noise from model output \n",
    "    def sample_prev_time(self,xt, noise_pred,t):\n",
    "        # xt - (sqrt(1-at) * model output / at )\n",
    "        x0= (xt- (self.sqrt_one_minus_alpha[t]*noise_pred)/self.sqrt_alpha_prod[t])\n",
    "        x0= torch.clamp(x0,-1,1)\n",
    "\n",
    "        # sample the mean \n",
    "        mean = xt - ((self.betas.to(xt.device)[t]) * noise_pred) / (self.sqrt_one_minus_alpha_cum_prod.to(xt.device)[t])\n",
    "        mean = mean / torch.sqrt(self.alphas.to(xt.device)[t])\n",
    "        \n",
    "        if t == 0:\n",
    "            return mean, x0\n",
    "        else:\n",
    "            variance = (1 - self.alpha_cum_prod.to(xt.device)[t - 1]) / (1.0 - self.alpha_cum_prod.to(xt.device)[t])\n",
    "            variance = variance * self.betas.to(xt.device)[t]\n",
    "            sigma = variance ** 0.5\n",
    "            z = torch.randn(xt.shape).to(xt.device)\n",
    "            \n",
    "            # OR\n",
    "            # variance = self.betas[t]\n",
    "            # sigma = variance ** 0.5\n",
    "            # z = torch.randn(xt.shape).to(xt.device)\n",
    "            return mean + sigma * z, x0"
   ]
  }
 ],
 "metadata": {
  "kernelspec": {
   "display_name": "newEnv",
   "language": "python",
   "name": "python3"
  },
  "language_info": {
   "codemirror_mode": {
    "name": "ipython",
    "version": 3
   },
   "file_extension": ".py",
   "mimetype": "text/x-python",
   "name": "python",
   "nbconvert_exporter": "python",
   "pygments_lexer": "ipython3",
   "version": "3.12.2"
  }
 },
 "nbformat": 4,
 "nbformat_minor": 2
}
