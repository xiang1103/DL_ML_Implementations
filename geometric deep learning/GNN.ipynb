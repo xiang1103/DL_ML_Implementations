{
 "cells": [
  {
   "cell_type": "markdown",
   "metadata": {},
   "source": [
    "## Graph Neural Networks "
   ]
  },
  {
   "cell_type": "markdown",
   "metadata": {},
   "source": [
    "### Process Data as Graphs \n",
    "- Process the information as nodes and edges/links. Based on the ordering of these nodes and graphs, we get different inputs. --> We can translate an ordeirng of graph into a tabular/picture input  "
   ]
  },
  {
   "cell_type": "markdown",
   "metadata": {},
   "source": [
    "### Problems with processing graphs with traditional neural networks \n",
    "- Graphs are of different sizes (edges or nodes), and we can't change their size easily through padding/deletion like what we did with picture/tabular data. So traditional NN can't process graph data as easily   \n",
    "\n",
    "- Graphs have the property of isomorphism. Two structurally same graphs (same number of nodes and edges but at different ordering) maybe processed by the neural network as different inputs when they are the same input (i.e. a rotated picture). So graph NN needs to be permutation invariant  \n",
    "   \n",
    "- Graph data are also not the same as tabular data that is based on a grid because graphs are non-euclidean. This makes hard to use traditional ML techniques such as convolution which only works on tabular data. "
   ]
  },
  {
   "cell_type": "markdown",
   "metadata": {},
   "source": [
    "### GNN and Message Passing \n",
    "- Uses embedding layers to embed nodes and edges --> embeded nodes and edges have information about other nodes/edges or the entire graph   \n",
    "  \n",
    "- With the embedded values/vectors, we can use the embedding to predict the nodes and edges of the entire graph   \n",
    "  \n",
    "- The hidden layers are known as Message Passing layers (passing information about other nodes/edges to other nodes). The specific implementation of these layers are done using Graph Convolution Network.   \n",
    "  \n",
    "- Similar with CNN convolutions, **graph convolution/message passing** determines a node neighborhood of certain size. Then we can take the embedded information of all those neighbors with the current node. Combine the information of neighbor nodes then add with the current node to get the new embedding information   \n",
    "  \n",
    "- Each convolution/message passing only looks at one neighborhood, after the first passing, each node **will have information about at least 1 other nodes** (assume we don't have an isolated node). And it's possible for two nodes to not have any information about each other. After repeating the message passing layers, the nodes will have more information about all other nodes.  (Starting from direct neighor to neighbor's neighbors)\n",
    "  \n",
    "- The embedding of the nodes are vectors containing information about other nodes and itself (think of embedding in transformers). The number of message passing we do is the number of hidden layers of a GNN   \n",
    "  \n",
    "- If we have too many message passing layers, the nodes may learn too much information about the neighbors, and the nodes become similar to each other (**over smoothing**), this leads to information loss    \n",
    "  \n",
    "- Message Passing: $$h_u^{k+1} = update(h_u + aggregrate(h_v   \\forall v \\in u_{neighbor}))$$  \n",
    "- Variants of GNN varies in how the message passing updates the current node's information "
   ]
  },
  {
   "cell_type": "code",
   "execution_count": 3,
   "metadata": {},
   "outputs": [],
   "source": [
    "import torch \n",
    "import sys\n",
    "import os\n",
    "from torch_geometric.datasets import MoleculeNet \n",
    "import rdkit \n",
    "from rdkit import Chem "
   ]
  },
  {
   "cell_type": "markdown",
   "metadata": {},
   "source": [
    "ESOL dataset is consisted of molecules in their SMILES strings and graph representations (nodes and edges) and their solubility.  \n",
    "\n",
    "**Note** that Pytorch Geometric uses RDKit at processing these datasets. So the node and attribute information are most likely extracted using RDKit in the background. "
   ]
  },
  {
   "cell_type": "code",
   "execution_count": 5,
   "metadata": {},
   "outputs": [
    {
     "name": "stderr",
     "output_type": "stream",
     "text": [
      "Downloading https://deepchemdata.s3-us-west-1.amazonaws.com/datasets/delaney-processed.csv\n",
      "Processing...\n",
      "Done!\n"
     ]
    },
    {
     "data": {
      "text/plain": [
       "ESOL(1128)"
      ]
     },
     "execution_count": 5,
     "metadata": {},
     "output_type": "execute_result"
    }
   ],
   "source": [
    "data= MoleculeNet(root='.', name= \"ESOL\")\n",
    "data "
   ]
  },
  {
   "cell_type": "code",
   "execution_count": null,
   "metadata": {},
   "outputs": [
    {
     "name": "stdout",
     "output_type": "stream",
     "text": [
      "Dataset type:  <class 'torch_geometric.datasets.molecule_net.MoleculeNet'>\n",
      "Dataset features:  9\n",
      "Dataset target:  734\n",
      "Dataset length:  <bound method InMemoryDataset.len of ESOL(1128)>\n",
      "Dataset sample:  Data(x=[32, 9], edge_index=[2, 68], edge_attr=[68, 3], smiles='OCC3OC(OCC2OC(OC(C#N)c1ccccc1)C(O)C(O)C2O)C(O)C(O)C3O ', y=[1, 1])\n",
      "Sample  nodes:  32\n",
      "Sample  edges:  68\n"
     ]
    },
    {
     "name": "stderr",
     "output_type": "stream",
     "text": [
      "/opt/anaconda3/envs/newEnv/lib/python3.12/site-packages/torch_geometric/data/dataset.py:169: UserWarning: Found floating-point labels while calling `dataset.num_classes`. Returning the number of unique elements. Please make sure that this is expected before proceeding.\n",
      "  warnings.warn(\"Found floating-point labels while calling \"\n"
     ]
    }
   ],
   "source": [
    "print(\"Dataset type: \", type(data))\n",
    "print(\"Dataset features: \", data.num_features)\n",
    "print(\"Dataset target: \", data.num_classes)\n",
    "print(\"Dataset length: \", data.len)\n",
    "print(\"Dataset sample: \", data[0])  \n",
    "print(\"Sample  nodes: \", data[0].num_nodes) \n",
    "print(\"Sample  edges: \", data[0].num_edges)\n",
    "\n",
    "# each sample of the data is a molecule containing its nodes with attributes (numerical values) predicting for one label \n",
    "# edge_index is alike the adjacency matrix that tells the connection between nodes. The first row is the node and the second row is the other node the corresponding node is connected to \n",
    "# edge_attr is "
   ]
  },
  {
   "cell_type": "code",
   "execution_count": null,
   "metadata": {},
   "outputs": [
    {
     "data": {
      "image/png": "[encoded data removed]",
      "text/plain": [
       "<rdkit.Chem.rdchem.Mol at 0x17f77ceb0>"
      ]
     },
     "execution_count": 7,
     "metadata": {},
     "output_type": "execute_result"
    }
   ],
   "source": [
    "# process the first data of the dataset \n",
    "mol = Chem.MolFromSmiles(\"OCC3OC(OCC2OC(OC(C#N)c1ccccc1)C(O)C(O)C2O)C(O)C(O)C3O\")   # rdkit \n",
    "mol "
   ]
  },
  {
   "cell_type": "code",
   "execution_count": null,
   "metadata": {},
   "outputs": [
    {
     "data": {
      "text/plain": [
       "tensor([[8, 0, 2, 5, 1, 0, 4, 0, 0],\n",
       "        [6, 0, 4, 5, 2, 0, 4, 0, 0],\n",
       "        [6, 0, 4, 5, 1, 0, 4, 0, 1],\n",
       "        [8, 0, 2, 5, 0, 0, 4, 0, 1],\n",
       "        [6, 0, 4, 5, 1, 0, 4, 0, 1],\n",
       "        [8, 0, 2, 5, 0, 0, 4, 0, 0],\n",
       "        [6, 0, 4, 5, 2, 0, 4, 0, 0],\n",
       "        [6, 0, 4, 5, 1, 0, 4, 0, 1],\n",
       "        [8, 0, 2, 5, 0, 0, 4, 0, 1],\n",
       "        [6, 0, 4, 5, 1, 0, 4, 0, 1],\n",
       "        [8, 0, 2, 5, 0, 0, 4, 0, 0],\n",
       "        [6, 0, 4, 5, 1, 0, 4, 0, 0],\n",
       "        [6, 0, 2, 5, 0, 0, 2, 0, 0],\n",
       "        [7, 0, 1, 5, 0, 0, 2, 0, 0],\n",
       "        [6, 0, 3, 5, 0, 0, 3, 1, 1],\n",
       "        [6, 0, 3, 5, 1, 0, 3, 1, 1],\n",
       "        [6, 0, 3, 5, 1, 0, 3, 1, 1],\n",
       "        [6, 0, 3, 5, 1, 0, 3, 1, 1],\n",
       "        [6, 0, 3, 5, 1, 0, 3, 1, 1],\n",
       "        [6, 0, 3, 5, 1, 0, 3, 1, 1],\n",
       "        [6, 0, 4, 5, 1, 0, 4, 0, 1],\n",
       "        [8, 0, 2, 5, 1, 0, 4, 0, 0],\n",
       "        [6, 0, 4, 5, 1, 0, 4, 0, 1],\n",
       "        [8, 0, 2, 5, 1, 0, 4, 0, 0],\n",
       "        [6, 0, 4, 5, 1, 0, 4, 0, 1],\n",
       "        [8, 0, 2, 5, 1, 0, 4, 0, 0],\n",
       "        [6, 0, 4, 5, 1, 0, 4, 0, 1],\n",
       "        [8, 0, 2, 5, 1, 0, 4, 0, 0],\n",
       "        [6, 0, 4, 5, 1, 0, 4, 0, 1],\n",
       "        [8, 0, 2, 5, 1, 0, 4, 0, 0],\n",
       "        [6, 0, 4, 5, 1, 0, 4, 0, 1],\n",
       "        [8, 0, 2, 5, 1, 0, 4, 0, 0]])"
      ]
     },
     "execution_count": 8,
     "metadata": {},
     "output_type": "execute_result"
    }
   ],
   "source": [
    "data[0].x   # returns the 32 nodes each with an embedding/attribute dimension of 9 "
   ]
  },
  {
   "cell_type": "code",
   "execution_count": null,
   "metadata": {},
   "outputs": [
    {
     "data": {
      "text/plain": [
       "tensor([[ 0,  1],\n",
       "        [ 1,  0],\n",
       "        [ 1,  2],\n",
       "        [ 2,  1],\n",
       "        [ 2,  3],\n",
       "        [ 2, 30],\n",
       "        [ 3,  2],\n",
       "        [ 3,  4],\n",
       "        [ 4,  3],\n",
       "        [ 4,  5],\n",
       "        [ 4, 26],\n",
       "        [ 5,  4],\n",
       "        [ 5,  6],\n",
       "        [ 6,  5],\n",
       "        [ 6,  7],\n",
       "        [ 7,  6],\n",
       "        [ 7,  8],\n",
       "        [ 7, 24],\n",
       "        [ 8,  7],\n",
       "        [ 8,  9],\n",
       "        [ 9,  8],\n",
       "        [ 9, 10],\n",
       "        [ 9, 20],\n",
       "        [10,  9],\n",
       "        [10, 11],\n",
       "        [11, 10],\n",
       "        [11, 12],\n",
       "        [11, 14],\n",
       "        [12, 11],\n",
       "        [12, 13],\n",
       "        [13, 12],\n",
       "        [14, 11],\n",
       "        [14, 15],\n",
       "        [14, 19],\n",
       "        [15, 14],\n",
       "        [15, 16],\n",
       "        [16, 15],\n",
       "        [16, 17],\n",
       "        [17, 16],\n",
       "        [17, 18],\n",
       "        [18, 17],\n",
       "        [18, 19],\n",
       "        [19, 14],\n",
       "        [19, 18],\n",
       "        [20,  9],\n",
       "        [20, 21],\n",
       "        [20, 22],\n",
       "        [21, 20],\n",
       "        [22, 20],\n",
       "        [22, 23],\n",
       "        [22, 24],\n",
       "        [23, 22],\n",
       "        [24,  7],\n",
       "        [24, 22],\n",
       "        [24, 25],\n",
       "        [25, 24],\n",
       "        [26,  4],\n",
       "        [26, 27],\n",
       "        [26, 28],\n",
       "        [27, 26],\n",
       "        [28, 26],\n",
       "        [28, 29],\n",
       "        [28, 30],\n",
       "        [29, 28],\n",
       "        [30,  2],\n",
       "        [30, 28],\n",
       "        [30, 31],\n",
       "        [31, 30]])"
      ]
     },
     "execution_count": 14,
     "metadata": {},
     "output_type": "execute_result"
    }
   ],
   "source": [
    "# edge connections \n",
    "data[0].edge_index.t()  # take the transpose to show the connection more clearly \n",
    "\n",
    "# edge_index is more efficient than a regular adjency matrix because of less space usage "
   ]
  },
  {
   "cell_type": "code",
   "execution_count": null,
   "metadata": {},
   "outputs": [
    {
     "data": {
      "text/plain": [
       "tensor([[-0.7700]])"
      ]
     },
     "execution_count": 16,
     "metadata": {},
     "output_type": "execute_result"
    }
   ],
   "source": [
    "data[0].y   # the ground truth label for the corresponing graph. \n",
    "\n",
    "# In this context, the ground truth is the solubility of a given molecule (this is a grpah level prediction task)"
   ]
  },
  {
   "cell_type": "markdown",
   "metadata": {},
   "source": [
    "### Implementation of Graph Convolution Network    \n",
    "- Similar implementation as a CNN   "
   ]
  },
  {
   "cell_type": "code",
   "execution_count": 17,
   "metadata": {},
   "outputs": [],
   "source": [
    "import torch.nn.functional as F \n",
    "from torch_geometric.nn import GCNConv, TopKPooling, global_mean_pool\n",
    "from torch_geometric.nn import global_mean_pool as gap, global_max_pool as gmp\n",
    "import torch.nn as nn "
   ]
  },
  {
   "cell_type": "code",
   "execution_count": null,
   "metadata": {},
   "outputs": [
    {
     "name": "stdout",
     "output_type": "stream",
     "text": [
      "GCN(\n",
      "  (initial_conv): GCNConv(9, 64)\n",
      "  (conv1): GCNConv(64, 64)\n",
      "  (conv2): GCNConv(64, 64)\n",
      "  (conv3): GCNConv(64, 64)\n",
      "  (out): Linear(in_features=128, out_features=1, bias=True)\n",
      ")\n",
      "Element parameters: 64\n",
      "Element parameters: 576\n",
      "Element parameters: 64\n",
      "Element parameters: 4096\n",
      "Element parameters: 64\n",
      "Element parameters: 4096\n",
      "Element parameters: 64\n",
      "Element parameters: 4096\n",
      "Element parameters: 128\n",
      "Element parameters: 1\n"
     ]
    }
   ],
   "source": [
    "embedding_size= 64 \n",
    "class GCN (nn.Module):\n",
    "    def __init__(self): \n",
    "        super().__init__()  \n",
    "\n",
    "        # GCN layers \n",
    "        self.initial_conv= GCNConv(data.num_features, embedding_size)   # embed the dimension of each node from initial information to embedding size \n",
    "        self.conv1= GCNConv(embedding_size, embedding_size) # same convolution size at the embedding \n",
    "        self.conv2 = GCNConv(embedding_size, embedding_size)\n",
    "        self.conv3 = GCNConv(embedding_size, embedding_size)\n",
    "\n",
    "        # output to a single prediction \n",
    "        self.out = nn.Linear(embedding_size*2, 1)   # output to  1 to match with the label size \n",
    "    # x is the input nodes \n",
    "    # edge_index corresponds to the nodes that are connected (we need edge_index to find the nearest edge to do the convolution) \n",
    "    def forward(self, x, edge_index, batch_index):\n",
    "        hidden = self.initial_conv(x, edge_index)\n",
    "        hidden = F.tanh(hidden)\n",
    "\n",
    "         # Other Conv layers\n",
    "        hidden = self.conv1(hidden, edge_index)\n",
    "        hidden = F.tanh(hidden)\n",
    "        hidden = self.conv2(hidden, edge_index)\n",
    "        hidden = F.tanh(hidden)\n",
    "        hidden = self.conv3(hidden, edge_index)\n",
    "        hidden = F.tanh(hidden)\n",
    "\n",
    "        # mean pool and max pool after 3 times of message pooling\n",
    "        # concatenate column wise \n",
    "        hidden= torch.cat([gmp(hidden, edge_index),gap(hidden,edge_index)], dim=1 )\n",
    "        out = self.out (hidden)\n",
    "        return out, hidden \n",
    "    \n",
    "model= GCN() \n",
    "print(model)\n",
    "for p in model.parameters(): \n",
    "    print(\"Element parameters:\", p.numel())\n",
    "\n",
    "# 64 parameters came from the initial 9 -> 64 \n",
    "\n",
    "# 64 parameters from tanh after conv 2  \n",
    "# 4096 parameters came from conv3 \n",
    "# 128 parameters because out hidden is 128 dimensional (concatenated)\n",
    "# 1 parameter is the bias of the linear "
   ]
  }
 ],
 "metadata": {
  "kernelspec": {
   "display_name": "newEnv",
   "language": "python",
   "name": "python3"
  },
  "language_info": {
   "codemirror_mode": {
    "name": "ipython",
    "version": 3
   },
   "file_extension": ".py",
   "mimetype": "text/x-python",
   "name": "python",
   "nbconvert_exporter": "python",
   "pygments_lexer": "ipython3",
   "version": "3.12.2"
  }
 },
 "nbformat": 4,
 "nbformat_minor": 2
}
