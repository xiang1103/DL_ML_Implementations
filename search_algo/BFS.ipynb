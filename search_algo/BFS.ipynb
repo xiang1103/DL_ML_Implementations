{
 "cells": [
  {
   "cell_type": "markdown",
   "metadata": {},
   "source": [
    "Implementation of DFS and BFS, along with a simple graph implementation using a dictionary, similar with adjacency list. "
   ]
  },
  {
   "cell_type": "code",
   "execution_count": 50,
   "metadata": {},
   "outputs": [],
   "source": [
    "''' \n",
    "vertex each gets a state of 0 to indicate that they are not yet visited \n",
    "'''\n",
    "\n",
    "class Vertex: \n",
    "    def __init__(self, value):\n",
    "        #neighbs is the set of edges \n",
    "        #value is the val of the vertex's value \n",
    "        self.neighbs= set([])\n",
    "        self.state= 0 \n",
    "        self.val= value \n",
    "    def __repr__(self):\n",
    "        return f\"{self.val}\"\n",
    "class Graph: \n",
    "    def __init__(self):\n",
    "        #key: vertex to look up \n",
    "        #value: information about the vertex\n",
    "        self.vertices={}\n",
    "    def add_vertex(self,u): \n",
    "        #add vertex initiates all the neighbor vertices\n",
    "        self.vertices[u]= Vertex(u)\n",
    "    def add_edge(self,u,v): #add the edge to vertex u\n",
    "        #add corresponding vertices (undirected graph)\n",
    "\n",
    "        #add the vertices into the vertices if they are not already in them \n",
    "        if u not in self.vertices:\n",
    "            self.add_vertex(u)\n",
    "        if v not in self.vertices:\n",
    "            self.add_vertex(v)\n",
    "        self.vertices[u].neighbs.add(self.vertices[v])\n",
    "        self.vertices[v].neighbs.add(self.vertices[u])\n",
    "\n",
    "    ''' \n",
    "    Breadth first search (implemented using a queue)\n",
    "\n",
    "    Given a node \"start\" to start the search, visit all nodes through BFS\n",
    "    \n",
    "    NOTE: This implementation only visits nodes that are connected to the start node, so disconnected nodes will not be visited. \n",
    "    '''\n",
    "    def BFS(self,start):\n",
    "        queue=[] \n",
    "        queue.append(self.vertices[start])\n",
    "        self.vertices[start].state=1 \n",
    "        while (len(queue)): #base condition of empty queue (all nodes connected are visited)\n",
    "            node= queue.pop(0)    #pop out the first node \n",
    "            print(node)\n",
    "            for n in node.neighbs:\n",
    "                if n.state!=1:  #add all of the vertices conneted to node to the queue\n",
    "                    queue.append(n) \n",
    "                    n.state=1   #change the state of the vertex to mark as visited \n",
    "\n",
    "    ''' \n",
    "    Depth first search, very similar with DFS, but we use a stack instead to look at the vertices that we just inserted\n",
    "    '''\n",
    "    \n",
    "    def DFS(self,start):\n",
    "        self.vertices[start].state=1 \n",
    "        print(self.vertices[start])\n",
    "        for n in self.vertices[start].neighbs:\n",
    "            if n.state==0:\n",
    "                self.DFS(n.val)"
   ]
  },
  {
   "cell_type": "markdown",
   "metadata": {},
   "source": [
    "**Note**: do not run BFS right after DFS, because all the vertices connected to the start vertice are marked as visited. We have to reinstantiate the graph to run DFS."
   ]
  },
  {
   "cell_type": "code",
   "execution_count": 45,
   "metadata": {},
   "outputs": [
    {
     "name": "stdout",
     "output_type": "stream",
     "text": [
      "1\n",
      "4\n",
      "2\n",
      "0\n",
      "3\n",
      "5\n",
      "7\n",
      "6\n"
     ]
    }
   ],
   "source": [
    "#declare my graph \n",
    "graph= Graph() \n",
    "for v in range(8):\n",
    "    graph.add_vertex(v)\n",
    "graph.add_edge(0,1)\n",
    "graph.add_edge(1,4)\n",
    "graph.add_edge(1,2)\n",
    "graph.add_edge(1,3)\n",
    "graph.add_edge(3,4)\n",
    "graph.add_edge(3,7)\n",
    "graph.add_edge(2,5)\n",
    "graph.add_edge(5,6)\n",
    "graph.BFS(1)"
   ]
  },
  {
   "cell_type": "code",
   "execution_count": 51,
   "metadata": {},
   "outputs": [
    {
     "name": "stdout",
     "output_type": "stream",
     "text": [
      "1\n",
      "2\n",
      "5\n",
      "6\n",
      "0\n",
      "3\n",
      "7\n",
      "4\n"
     ]
    }
   ],
   "source": [
    "graph= Graph() \n",
    "for v in range(8):\n",
    "    graph.add_vertex(v)\n",
    "graph.add_edge(0,1)\n",
    "graph.add_edge(1,4)\n",
    "graph.add_edge(1,2)\n",
    "graph.add_edge(1,3)\n",
    "graph.add_edge(3,4)\n",
    "graph.add_edge(3,7)\n",
    "graph.add_edge(2,5)\n",
    "graph.add_edge(5,6)\n",
    "graph.DFS(1)"
   ]
  },
  {
   "cell_type": "markdown",
   "metadata": {},
   "source": [
    "Reference I used to learn: https://www.youtube.com/watch?v=Ocl_ffmYd74&list=PLxGzv4uunL67OB-qY-pCrC6dqkmWaRKu0&index=82"
   ]
  }
 ],
 "metadata": {
  "kernelspec": {
   "display_name": "Python 3",
   "language": "python",
   "name": "python3"
  },
  "language_info": {
   "codemirror_mode": {
    "name": "ipython",
    "version": 3
   },
   "file_extension": ".py",
   "mimetype": "text/x-python",
   "name": "python",
   "nbconvert_exporter": "python",
   "pygments_lexer": "ipython3",
   "version": "3.12.0"
  }
 },
 "nbformat": 4,
 "nbformat_minor": 2
}
