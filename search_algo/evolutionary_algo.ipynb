{
 "cells": [
  {
   "cell_type": "markdown",
   "id": "67659802",
   "metadata": {},
   "source": [
    "## Evolutionary Algorithm \n",
    "\n",
    "It's a generation algorithm based on how evolution works. \n",
    "\n",
    "### Methods \n",
    "- The algorithm is like a tree search where we start with a pool of candidates and evaluate which ones we want to take to make offsprings through a **fitting function**.  \n",
    "    - This process is testing then selecting the fittest.   \n",
    "\n",
    "- Then we take the **crossover function** to combine the attributes of the best candidates chosen to make offsprings. **mutation** is added to generate something new \n",
    "    - This process generates new things that are different from the starting random and getting more optimized for the objective function   \n",
    "\n",
    "- Evaluate the offspring again as the new generation and determine if we continue the evolution. "
   ]
  }
 ],
 "metadata": {
  "kernelspec": {
   "display_name": "newEnv",
   "language": "python",
   "name": "python3"
  },
  "language_info": {
   "name": "python",
   "version": "3.12.2"
  }
 },
 "nbformat": 4,
 "nbformat_minor": 5
}
